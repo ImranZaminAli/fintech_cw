{
 "cells": [
  {
   "cell_type": "markdown",
   "id": "b09cbbb6-31fa-4543-95bc-3a36fd97cadb",
   "metadata": {
    "tags": []
   },
   "source": [
    "# Week 5 Activity: Hypothesis Testing  Solution 1 (data1.csv)\n"
   ]
  },
  {
   "cell_type": "markdown",
   "id": "ab527114-e72e-4ca5-84f3-9b000a88f2e5",
   "metadata": {
    "tags": []
   },
   "source": [
    "This week you will be using python to visualise some data and perform hypothesis testing. Please refer to lecture __W5.L1: Empirical Methods__.\n",
    "\n",
    "For further reading, I suggest the following reference book, available online via University library:\n",
    "+ Peter Bruce, Andrew Bruce, Peter Gedeck (2020), Practical Statistics for Data Scientists: 50+ Essential Concepts Using R and Python. \n",
    "<br>Link: https://bris.on.worldcat.org/oclc/1151182591"
   ]
  },
  {
   "cell_type": "markdown",
   "id": "e0893e0e-6eb8-44b2-ab25-0ae54b11737c",
   "metadata": {
    "tags": []
   },
   "source": [
    "### Instructions: \n",
    "\n",
    "In today's session, you will be visualising and analysing two datasets. These data are stored in the following files:\n",
    "+ `w5.data/data1.csv`\n",
    "+ `w5.data/data2.csv`\n",
    "\n",
    "Each dataset contains a sample of values measured from a population subject to different conditions. We consider these conditions in the abstract and name them condition \"a\", \"b\", etc. However, if you want a more concrete example, you could consider that these data are empirical outcomes from your market experiments. For instance, condition \"a\" could be \"markets containing ZIC traders only\" and condition \"b\" could be \"markets containing ZIP traders only\". Then, each value is mean profit per trader; and each row is the result of one experimental trail. \n",
    "\n",
    "Your task is to do the following:\n",
    "1. select *one* of the datasets\n",
    "2. summarise the dataset you have chosen: number of columns (i.e., number of conditions), number of instances (i.e., number of rows/trials), mean and standard deviation of each column (i.e., mean and standard deviation of each condition)\n",
    "3. use a staticial test to determine whether data are normally distributed (e.g., Shapiro-Wilk or Kolmogoroc-Smirnov)\n",
    "4. visualise the dataset you have chosen to understand the distribution of values under each condition. Consider using scatter plot, histogram, box-and-whisker plot, violin plot, etc.\n",
    "5. use a statistical hypothesis test to determine whether there is a significant statistical difference between conditions in the dataset (e.g., t-test, ANOVA, Mann-Whitney, Kruskal-Wallis).\n",
    "\n",
    "If you finish with time remaining, then go back and repeat the above steps using the *other* data set. "
   ]
  },
  {
   "cell_type": "markdown",
   "id": "cc52b442-9e15-4c13-8f8e-7452f552ecf2",
   "metadata": {
    "tags": []
   },
   "source": [
    "### Getting started. Importing required python libraries"
   ]
  },
  {
   "cell_type": "markdown",
   "id": "56ccb585-e72f-44d3-bf7a-c867a995ab9f",
   "metadata": {},
   "source": [
    "We will be using the following useful libraries to help us perform statistical analysis:\n",
    "\n",
    "+ `SciPy`: Fundamental algorithms for scientific computing in Python - https://scipy.org\n",
    "+ `Seaborn`: Statistical data visualisation - https://seaborn.pydata.org\n",
    "+ `matplotlib`: visualisation with python - https://matplotlib.org\n",
    "+ `statsmodels`: Functions for estimation of different statistical models - https://www.statsmodels.org/stable/index.html\n",
    "+ `pandas`: For handling data - https://pandas.pydata.org/docs/getting_started/index.html\n",
    "\n",
    "Let's begin by importing these python libraries for use today."
   ]
  },
  {
   "cell_type": "code",
   "execution_count": 1,
   "id": "9dbd63a9-432e-4d2b-981c-978aa5890b8c",
   "metadata": {
    "tags": []
   },
   "outputs": [],
   "source": [
    "# import some useful libraries to help us wrangle data, \n",
    "# plot data, and perform statistial analysis \n",
    "import scipy as sp\n",
    "from scipy import stats\n",
    "import seaborn as sns \n",
    "import matplotlib.pyplot as plt \n",
    "import statsmodels.api as sm\n",
    "import pandas as pd"
   ]
  },
  {
   "cell_type": "markdown",
   "id": "7196d067-788f-4952-a96e-6d61acc97dc4",
   "metadata": {},
   "source": [
    "### 1. Read in data1.csv\n",
    "\n",
    "Select one dataset to work with. Read the dataset from the chosen csv file.\n",
    "\n",
    "> Hint: Use `pandas` library to read a csv file into a pandas dataframe <br>\n",
    "> https://pandas.pydata.org/docs/reference/api/pandas.read_csv.html\n",
    "\n",
    "Then show the top rows of the dataframe..."
   ]
  },
  {
   "cell_type": "code",
   "execution_count": 2,
   "id": "44ac3893-7b8e-429e-a17f-de9841f1e5ec",
   "metadata": {
    "tags": []
   },
   "outputs": [
    {
     "data": {
      "text/html": [
       "<div>\n",
       "<style scoped>\n",
       "    .dataframe tbody tr th:only-of-type {\n",
       "        vertical-align: middle;\n",
       "    }\n",
       "\n",
       "    .dataframe tbody tr th {\n",
       "        vertical-align: top;\n",
       "    }\n",
       "\n",
       "    .dataframe thead th {\n",
       "        text-align: right;\n",
       "    }\n",
       "</style>\n",
       "<table border=\"1\" class=\"dataframe\">\n",
       "  <thead>\n",
       "    <tr style=\"text-align: right;\">\n",
       "      <th></th>\n",
       "      <th>a</th>\n",
       "      <th>b</th>\n",
       "      <th>c</th>\n",
       "    </tr>\n",
       "  </thead>\n",
       "  <tbody>\n",
       "    <tr>\n",
       "      <th>0</th>\n",
       "      <td>9.488231</td>\n",
       "      <td>14.716073</td>\n",
       "      <td>13.216140</td>\n",
       "    </tr>\n",
       "    <tr>\n",
       "      <th>1</th>\n",
       "      <td>11.197358</td>\n",
       "      <td>7.495907</td>\n",
       "      <td>12.922116</td>\n",
       "    </tr>\n",
       "    <tr>\n",
       "      <th>2</th>\n",
       "      <td>8.701403</td>\n",
       "      <td>11.570394</td>\n",
       "      <td>9.074421</td>\n",
       "    </tr>\n",
       "    <tr>\n",
       "      <th>3</th>\n",
       "      <td>8.610674</td>\n",
       "      <td>16.672563</td>\n",
       "      <td>10.348098</td>\n",
       "    </tr>\n",
       "    <tr>\n",
       "      <th>4</th>\n",
       "      <td>14.914451</td>\n",
       "      <td>11.403576</td>\n",
       "      <td>12.848107</td>\n",
       "    </tr>\n",
       "  </tbody>\n",
       "</table>\n",
       "</div>"
      ],
      "text/plain": [
       "           a          b          c\n",
       "0   9.488231  14.716073  13.216140\n",
       "1  11.197358   7.495907  12.922116\n",
       "2   8.701403  11.570394   9.074421\n",
       "3   8.610674  16.672563  10.348098\n",
       "4  14.914451  11.403576  12.848107"
      ]
     },
     "execution_count": 2,
     "metadata": {},
     "output_type": "execute_result"
    }
   ],
   "source": [
    "# Read in data from csv file using pandas\n",
    "\n",
    "# Uncomment the following as required\n",
    "df = pd.read_csv('w5.data/data1.csv') # read data1 to dataframe\n",
    "#df = pd.read_csv('w5.data/data2.csv') # read data2 to dataframe\n",
    "\n",
    "df.head() # show top rows of dataframe"
   ]
  },
  {
   "cell_type": "markdown",
   "id": "df2b069d-2218-482d-873c-d3d9752bbf6a",
   "metadata": {},
   "source": [
    "We have selected `data1`. We can see that there are three conditions 'a', 'b', and 'c'."
   ]
  },
  {
   "cell_type": "markdown",
   "id": "523b9cb3-1c8f-48bd-af92-32d6b04dcda7",
   "metadata": {
    "tags": []
   },
   "source": [
    "Each column presents a sample distribution of profits generated from three alternative trading stratiges. \n",
    "\n",
    "We would like to know whether there is any difference in the profits generated by the three strategies."
   ]
  },
  {
   "cell_type": "markdown",
   "id": "6cf713b1-e6c1-41fc-a3ce-b290441c07bd",
   "metadata": {
    "tags": []
   },
   "source": [
    "### 2. Summarise the data\n",
    "\n",
    "Briefly summarise the dataset. Find the following:\n",
    "+ Number and name of conditions\n",
    "+ Number of instances, n, of each condition\n",
    "+ Mean and standard deviation of values for each condition\n",
    "\n",
    "One approach is to open the raw data in the csv file and use Excel to calculate these values. Alternatively, you can use python code:\n"
   ]
  },
  {
   "cell_type": "code",
   "execution_count": 3,
   "id": "d2905375-157c-4bb0-b414-240da2e20f1a",
   "metadata": {
    "tags": []
   },
   "outputs": [
    {
     "name": "stdout",
     "output_type": "stream",
     "text": [
      "Condition a. n=15, mean=11.09, std=2.19\n",
      "Condition b. n=15, mean=13.10, std=3.11\n",
      "Condition c. n=15, mean=12.61, std=2.23\n"
     ]
    }
   ],
   "source": [
    "# Iterate through the columns, output name, \n",
    "# number of instances n, mean, and standard deviation\n",
    "for col in df.columns:\n",
    "    print(\"Condition \" + \"{:}\".format(col) + \n",
    "          \". n=\"+\"{:}\".format(df[col].count()) +\n",
    "          \", mean=\"+\"{:.2f}\".format(df[col].mean()) +\n",
    "          \", std=\"+\"{:.2f}\".format(df[col].std())) "
   ]
  },
  {
   "cell_type": "markdown",
   "id": "e82623a4-7a12-49b7-b35c-9246fd33cdf3",
   "metadata": {},
   "source": [
    "What do these summary values tell us? Are the profits for all conditions the same? Do some conditions lead to higher profits? Is it possible for us to tell from these values alone?"
   ]
  },
  {
   "cell_type": "markdown",
   "id": "1e98eb59-c9d9-4be6-896f-1a286ddf4145",
   "metadata": {
    "tags": []
   },
   "source": [
    "We can see that we have equal sample size = 15, for each condition. \n",
    "At first glance, considering only the mean profit, condition 'b' appears best. Can we stop here? No! Mean values alone tell us very little. \n",
    "\n",
    "We need to understand how the data varies. Standard deviation helps us here. Notice that the standard deviation (the variance) around the mean is larger than the differences between the means. Therefore, it is not clear that 'b' is the best from this data alone. We need to do more work."
   ]
  },
  {
   "cell_type": "markdown",
   "id": "9b44240f-14f1-474b-b0a7-88e0d180d56d",
   "metadata": {},
   "source": [
    "### 3. Determine whether data are normally distributed\n",
    "\n",
    "Summary statistics, in isolation, only tell us so much. If we want to accurately analyse these data we need to understand their distributions. In particular, if we want to perform correct hypothesis testing, we must first determine whether the data is (approximately) normally distributed.\n",
    "\n",
    "The __Shaprio-Wilk__ test and the __Kolmogorov-Smirnov__ test for goodness of fit can help us here: \n",
    "\n",
    "> The Shaprio-Wilk test tests the null hypothesiss that the data was drawn from a normal distribution. \n",
    "> `stats.shapiro(x)` returns tuple (A,B) where A = test statistic and B = p-value for the hypothesis test. \n",
    "> If p-value < 0.05, we reject the null hypothesis, i.e., the data is not drawn from an (approximately) normal distribution \n",
    "> If p-value >= 0.05 we cannot reject the null hypothesis that the data is drawn from an approximately normal distribution.\n",
    "\n",
    "> The Kolmogorov-Smirnov test tests for goodness of fit to a standard normal distribution. \n",
    "> To use this test, it is necessary to first normalise our data (to have mean=0 and variance=1).\n",
    "> To normalise: for each value, subtract the mean, then divide by the standard deviation <br>\n",
    "\n",
    "There are methods in the `stats` package in `scipy` that enable us to perform these tests:\n",
    "\n",
    "+ Shapiro-Wilk test for normality: https://docs.scipy.org/doc/scipy/reference/generated/scipy.stats.shapiro.html <br>\n",
    "+ Kolmogorov-Smirnov test for goodness of fit: https://docs.scipy.org/doc/scipy/reference/generated/scipy.stats.kstest.html#scipy.stats.kstest\n",
    "\n",
    "Decide which test you will use, then perform the test on each column of your data to see if the data are approximately normally distributed for each condition. What is the p-value for each column? Using this p-value, determine whether your data are (approximately) normally distributed. \n"
   ]
  },
  {
   "cell_type": "markdown",
   "id": "7d4b41a7-f8a7-47af-a0dd-4bb2feb8b65c",
   "metadata": {},
   "source": [
    "#### Alternative 1: Shapiro-Wilk"
   ]
  },
  {
   "cell_type": "code",
   "execution_count": 4,
   "id": "5d51332c-688c-4dc9-a1d4-50e0fb8376b0",
   "metadata": {
    "tags": []
   },
   "outputs": [
    {
     "name": "stdout",
     "output_type": "stream",
     "text": [
      "Using Shapiro-Wilk test to test the null hypothesis that the data was drawn from a normal distribution:\n",
      "Condition a. We cannot reject the null hypothesis (p=0.98). Therefore, data is normally distributed.\n",
      "Condition b. We cannot reject the null hypothesis (p=0.68). Therefore, data is normally distributed.\n",
      "Condition c. We cannot reject the null hypothesis (p=0.73). Therefore, data is normally distributed.\n"
     ]
    }
   ],
   "source": [
    "# Shapiro-Wilk test tests the null hypothesis that \n",
    "# the data was drawn from a normal distribution\n",
    "\n",
    "print(\"Using Shapiro-Wilk test to test the null hypothesis \" +\n",
    "      \"that the data was drawn from a normal distribution:\")\n",
    "\n",
    "for col in df.columns:\n",
    "    statistic, pvalue = stats.shapiro(df[col])\n",
    "    if pvalue < 0.05:\n",
    "        print(\"Condition \" + \"{:}\".format(col) + \n",
    "              \". We can reject the null hypothesis (p=\" + \n",
    "              \"{:.2f}\".format(pvalue) + \n",
    "              \"). Therefore, data is not normally distributed.\")\n",
    "    else:\n",
    "        print(\"Condition \" + \"{:}\".format(col) + \n",
    "              \". We cannot reject the null hypothesis (p=\" + \n",
    "              \"{:.2f}\".format(pvalue) + \n",
    "              \"). Therefore, data is normally distributed.\")"
   ]
  },
  {
   "cell_type": "markdown",
   "id": "46b636c6-059f-4b72-85ee-2b9ae474d714",
   "metadata": {},
   "source": [
    "The results of the Shapiro-Wilk test show us that the data for each condition __is__ (approximately) normally distributed."
   ]
  },
  {
   "cell_type": "markdown",
   "id": "f18f0c91-8efe-410b-bb9c-9a5bfb324463",
   "metadata": {},
   "source": [
    "#### Alternative 2: Kolmogorov-Smirnov"
   ]
  },
  {
   "cell_type": "markdown",
   "id": "0c61d111-0182-4a09-85d6-412a0a961d80",
   "metadata": {
    "tags": []
   },
   "source": [
    "We can use the Kolmogorov-Smirnov test for goodness of fit to a standard normal distribution. However, we must first normalise our data (to have mean=0 and std=1)."
   ]
  },
  {
   "cell_type": "code",
   "execution_count": 5,
   "id": "7d640305-41bb-4eac-a2f2-5952aa8349bc",
   "metadata": {
    "tags": []
   },
   "outputs": [],
   "source": [
    "# Normalise data\n",
    "norm_a = (df['a'] - df['a'].mean())/df['a'].std()\n",
    "norm_b = (df['b'] - df['b'].mean())/df['b'].std()\n",
    "norm_c = (df['c'] - df['c'].mean())/df['c'].std()"
   ]
  },
  {
   "cell_type": "code",
   "execution_count": 6,
   "id": "9e4c961d-ad4c-43e9-a63b-f331172d8e95",
   "metadata": {
    "tags": []
   },
   "outputs": [
    {
     "name": "stdout",
     "output_type": "stream",
     "text": [
      "Condition a. KstestResult(statistic=0.10261082960848739, pvalue=0.9925204024671034)\n",
      "Condition b. KstestResult(statistic=0.14367329426227682, pvalue=0.8739664785292491)\n",
      "Condition c. KstestResult(statistic=0.1264364460840689, pvalue=0.945483974083064)\n"
     ]
    }
   ],
   "source": [
    "# Perform KS test on normalised datasets\n",
    "print(\"Condition a. \" + str(stats.kstest(norm_a,'norm')))\n",
    "print(\"Condition b. \" + str(stats.kstest(norm_b,'norm')))\n",
    "print(\"Condition c. \" + str(stats.kstest(norm_c,'norm')))"
   ]
  },
  {
   "cell_type": "markdown",
   "id": "4cefc3e3-d01d-4874-81c3-20762cb2e03e",
   "metadata": {
    "tags": []
   },
   "source": [
    "All distributions have p>0.05, so null hypothesis is not rejected. Therefore, we can assume that the data is normally distributed."
   ]
  },
  {
   "cell_type": "markdown",
   "id": "84d77142-15ef-4775-abf0-349c54e2e8f9",
   "metadata": {
    "tags": []
   },
   "source": [
    "### 4. Visualise the data\n",
    "\n",
    "You have determined if your data is normally distributed, or not, using a statistical test. However, it is good practice to always visualise your data. \n",
    "\n",
    "#### Visualising normality\n",
    "\n",
    "Visualisations can also help us to determine the normality of data: are the data unimodal, roughly symmetric, tails not too heavy?\n",
    "\n",
    "Often, to best understand your data, it is a good idea to visualise it in different ways. \n",
    "\n",
    "Here are some common approaches for visualising (lack of) normality in data:\n",
    "\n",
    "> A __QQ plot__ (formally, a quantile-quantile plot) can be used to visually compare data with a normal distribution. \n",
    "> You can use `statsmodels` to create a QQ plot. <br>\n",
    "> https://www.statsmodels.org/dev/generated/statsmodels.graphics.gofplots.qqplot.html <br>\n",
    "> The QQ plot plots data from the distribtion against a normal distribution. \n",
    "> If the sample data falls close to the red line (showing x=y), then the data is approximately normal. \n",
    "> Note that you should normalise your data first (to have mean 0 and standard deviation 1). <br>\n",
    "\n",
    "> You can plot your distributions using a histogram or kernel density estimation (KDE) to see the distribution shape. \n",
    "> If the data is roughly bell-shaped you have (approximately) normal distribution.\n",
    "> `Seaborn` is a useful library for plotting these graphs: <br> \n",
    "> + A __histogram__ is a classic visualization tool that represents the distribution of \n",
    "> one or more variables by counting the number of observations that fall within discrete bins: <br>\n",
    "> https://seaborn.pydata.org/generated/seaborn.histplot.html\n",
    "> + __Kernel density estimation__ is useful for plotting multiple distributions on one set of axes: <br> \n",
    "> https://seaborn.pydata.org/generated/seaborn.kdeplot.html#seaborn.kdeplot\n",
    "\n",
    "Now try to visualise your data using a QQ plot and/or histograms and/or a KDE plot.\n"
   ]
  },
  {
   "cell_type": "markdown",
   "id": "c4acdcaf-71bb-43fa-8a77-2f2aa95919f7",
   "metadata": {},
   "source": [
    "#### Alternative 1. Kernel density estimation (KDE) plot\n",
    "\n",
    "Use `seaborn` to plot a KDE of data..."
   ]
  },
  {
   "cell_type": "code",
   "execution_count": 7,
   "id": "d8477b25-5d18-43e1-99bf-3b55d786ad2b",
   "metadata": {
    "tags": []
   },
   "outputs": [
    {
     "data": {
      "text/plain": [
       "<AxesSubplot:ylabel='Density'>"
      ]
     },
     "execution_count": 7,
     "metadata": {},
     "output_type": "execute_result"
    },
    {
     "data": {
      "image/png": "[encoded data removed]",
      "text/plain": [
       "<Figure size 432x288 with 1 Axes>"
      ]
     },
     "metadata": {
      "needs_background": "light"
     },
     "output_type": "display_data"
    }
   ],
   "source": [
    "sns.kdeplot(data=df, fill=True)"
   ]
  },
  {
   "cell_type": "markdown",
   "id": "f223fdf1-9fc8-4eb0-8294-518127fa05db",
   "metadata": {
    "tags": []
   },
   "source": [
    "We can see that the three distributions are bell-shaped, roughly symmetric, and there are not too many outliers. We can be confident that data is approximately normally distributed. This confirms what we discovered before."
   ]
  },
  {
   "cell_type": "markdown",
   "id": "e2e8a990-a4a4-4f02-8f63-44aabb569416",
   "metadata": {},
   "source": [
    "#### Alternative 2: Quantile-Quantile (QQ) plot"
   ]
  },
  {
   "cell_type": "markdown",
   "id": "62949cf2-66b6-41d8-8562-b350e50f361d",
   "metadata": {
    "tags": []
   },
   "source": [
    "Use `statsmodels` to create quantile-quantile plots...  "
   ]
  },
  {
   "cell_type": "code",
   "execution_count": 8,
   "id": "e99f9b9d-1ff8-46df-b4ba-93adf771e531",
   "metadata": {
    "tags": []
   },
   "outputs": [
    {
     "data": {
      "image/png": "[encoded data removed]",
      "text/plain": [
       "<Figure size 432x288 with 1 Axes>"
      ]
     },
     "metadata": {
      "needs_background": "light"
     },
     "output_type": "display_data"
    },
    {
     "data": {
      "image/png": "[encoded data removed]",
      "text/plain": [
       "<Figure size 432x288 with 1 Axes>"
      ]
     },
     "metadata": {
      "needs_background": "light"
     },
     "output_type": "display_data"
    },
    {
     "data": {
      "image/png": "[encoded data removed]",
      "text/plain": [
       "<Figure size 432x288 with 1 Axes>"
      ]
     },
     "metadata": {
      "needs_background": "light"
     },
     "output_type": "display_data"
    }
   ],
   "source": [
    "#create Q-Q plot with 45-degree line added to plot\n",
    "fig = sm.qqplot(norm_a, line='45') # we must use normalised data\n",
    "fig = sm.qqplot(norm_b, line='45')\n",
    "fig = sm.qqplot(norm_c, line='45')\n"
   ]
  },
  {
   "cell_type": "markdown",
   "id": "7dc24f31-868c-483d-9cb8-eb97aa50294f",
   "metadata": {},
   "source": [
    "For all three conditions, the sample data is close to the red line. We are now convinced that these data are (approximately) normally distributed."
   ]
  },
  {
   "cell_type": "markdown",
   "id": "e0409810-dd61-429d-a6e9-c09f2ce38b86",
   "metadata": {},
   "source": [
    "#### Comparing distributions visually \n",
    "\n",
    "The data contains results of experiments under multiple conditions. We can use visualisations to compare the results of each condition. \n",
    "\n",
    "Attempt the following three approaches to visually compare your data:\n",
    "+ Create a __barplot__ of mean and confidence interval: https://seaborn.pydata.org/generated/seaborn.barplot.html\n",
    "+ Create a __box plot__ (or box-and-whisker plot) showing inter-quartile ranges: https://seaborn.pydata.org/generated/seaborn.boxplot.html\n",
    "+ Create a __violin plot__: https://seaborn.pydata.org/generated/seaborn.violinplot.html"
   ]
  },
  {
   "cell_type": "markdown",
   "id": "41397ccd-79a6-4fac-b91d-cbeedfa8b862",
   "metadata": {},
   "source": [
    "#### Alternative 1: Bar plot"
   ]
  },
  {
   "cell_type": "code",
   "execution_count": 9,
   "id": "82efdcea-13f9-4eb3-8087-e10ab7f524ac",
   "metadata": {
    "tags": []
   },
   "outputs": [
    {
     "data": {
      "text/plain": [
       "<AxesSubplot:>"
      ]
     },
     "execution_count": 9,
     "metadata": {},
     "output_type": "execute_result"
    },
    {
     "data": {
      "image/png": "[encoded data removed]",
      "text/plain": [
       "<Figure size 432x288 with 1 Axes>"
      ]
     },
     "metadata": {
      "needs_background": "light"
     },
     "output_type": "display_data"
    }
   ],
   "source": [
    "# Use seaborn to create a barplot\n",
    "sns.barplot(data=df)"
   ]
  },
  {
   "cell_type": "markdown",
   "id": "63911cf3-79d2-4d7b-a38e-eae9de098142",
   "metadata": {},
   "source": [
    "#### Alternative 2: Box plot"
   ]
  },
  {
   "cell_type": "code",
   "execution_count": 10,
   "id": "6b11ba3f-41fa-444b-afbd-581d900cf613",
   "metadata": {
    "tags": []
   },
   "outputs": [
    {
     "data": {
      "text/plain": [
       "<AxesSubplot:>"
      ]
     },
     "execution_count": 10,
     "metadata": {},
     "output_type": "execute_result"
    },
    {
     "data": {
      "image/png": "[encoded data removed]",
      "text/plain": [
       "<Figure size 432x288 with 1 Axes>"
      ]
     },
     "metadata": {
      "needs_background": "light"
     },
     "output_type": "display_data"
    }
   ],
   "source": [
    "# Use seaborn to create a boxplot\n",
    "sns.boxplot(data=df)"
   ]
  },
  {
   "cell_type": "markdown",
   "id": "4d4b823e-4746-40ee-83ce-3cc7fd47d14d",
   "metadata": {},
   "source": [
    "##### Alternative 3: Violin plot"
   ]
  },
  {
   "cell_type": "code",
   "execution_count": 11,
   "id": "e1dc3063-93b0-4732-b296-56d66dcc2db3",
   "metadata": {
    "tags": []
   },
   "outputs": [
    {
     "data": {
      "image/png": "[encoded data removed]",
      "text/plain": [
       "<Figure size 432x288 with 1 Axes>"
      ]
     },
     "metadata": {
      "needs_background": "light"
     },
     "output_type": "display_data"
    }
   ],
   "source": [
    "# Use seaborn to create a violin plot\n",
    "ax = sns.violinplot(data=df, inner='box')\n",
    "\n",
    "# Label our axes appropriately\n",
    "ax.set_title(\"Profits by trading algorithm\")\n",
    "ax.set_ylabel(\"Profits (GBP)\")\n",
    "ax.set_xlabel(\"Algorithm\")\n",
    "\n",
    "plt.show()"
   ]
  },
  {
   "cell_type": "markdown",
   "id": "876824ae-43ca-4515-824b-67e0e0636071",
   "metadata": {},
   "source": [
    "Qu: Which visual presents the most information? Which presents the least?\n",
    "\n",
    "+ Notice that the bar plot, particularly if there is no confidence interval plotted, tells us very little indeed.\n",
    "+ The box and whiskers plot is a much better choice\n",
    "+ Violin plots also give lots of information about shape of distribution as well as range of values. In each condition, we can see distributions are (approximately) normal."
   ]
  },
  {
   "cell_type": "markdown",
   "id": "9b6c5fe4-d9f7-427d-82b0-e6351c3aa1c9",
   "metadata": {},
   "source": [
    "### 5. Hypothesis testing\n",
    "\n",
    "So, now you have determind whether or not the data is normal and you have visualised the comparative distributions. You now have a good idea about whether profits appear to be similar under all conditions, or whether some conditions appear to lead to grater profits.\n",
    "\n",
    "However, to know for sure whether a change in condition results in a change in profits, you need to perform a statistical test.\n",
    "\n",
    "First, you must set up a null hypothsis. You then perform a statistical test to generate a p-value. If p-value < 0.05 then you can reject the null hypothsis. \n",
    "\n",
    "Depending on your data, consider one of the following four hypothesis tests:\n",
    "\n",
    "+ __t-test__: https://docs.scipy.org/doc/scipy/reference/generated/scipy.stats.ttest_ind.html\n",
    "+ __ANOVA__: https://docs.scipy.org/doc/scipy/reference/generated/scipy.stats.f_oneway.html\n",
    "+ __Mann-Whitney__: https://docs.scipy.org/doc/scipy/reference/generated/scipy.stats.mannwhitneyu.html.\n",
    "+ __Kruskal-Wallis__: https://docs.scipy.org/doc/scipy/reference/generated/scipy.stats.kruskal.html#scipy.stats.kruskal. \n",
    "\n",
    "Decide which test is appropriate and then write code to perform the test, below.\n"
   ]
  },
  {
   "cell_type": "markdown",
   "id": "798a9bb8-98b3-4240-bfb6-ec7510550fa0",
   "metadata": {},
   "source": [
    "#### Hypothesis test selection\n",
    "\n",
    "We have determined that our data is (approximately) normally distributed. Therefore we can use a __parametric__ test such as t-test or ANOVA.\n",
    "\n",
    "The t-test is designed for comparing two distributions, but we have three distributions to compare. ANOVA is designed to compare multiple distributions."
   ]
  },
  {
   "cell_type": "markdown",
   "id": "3816b6b9-7285-44a9-a757-37ae00830711",
   "metadata": {},
   "source": [
    "Therefore, we should use ANOVA..."
   ]
  },
  {
   "cell_type": "code",
   "execution_count": 12,
   "id": "04923145-9d62-4869-8043-861700d3de01",
   "metadata": {
    "tags": []
   },
   "outputs": [
    {
     "name": "stdout",
     "output_type": "stream",
     "text": [
      "ANOVA: (p=0.09 > 0.05). Cannot reject null hypothesis that groups have same population mean.\n"
     ]
    }
   ],
   "source": [
    "# Use stats package from scipy to perform ANOVA \n",
    "statistic, pvalue = stats.f_oneway(df['a'],df['b'],df['c'])\n",
    "if pvalue < 0.05:\n",
    "    print(\"ANOVA: (p=\" + \"{:.2f}\".format(pvalue) + \n",
    "          \" < 0.05). Reject null. The groups have a \" +\n",
    "          \"different population mean.\") \n",
    "else:\n",
    "    print(\"ANOVA: (p=\" + \"{:.2f}\".format(pvalue) + \n",
    "          \" > 0.05). Cannot reject null hypothesis \" + \n",
    "          \"that groups have same population mean.\")"
   ]
  },
  {
   "cell_type": "markdown",
   "id": "12e343e6-798d-45a6-a490-8a42093c55b2",
   "metadata": {},
   "source": [
    "So, the ANOVA test tells us that we __cannot__ reject the null hypothesis. Therefore there is no statistically significant difference in the mean profit generated by each trading algorithm.\n",
    "\n",
    "For completeness, let's see what would have happened if we had used multiple t-tests instead..."
   ]
  },
  {
   "cell_type": "code",
   "execution_count": 13,
   "id": "a3d1614c-3307-4f3c-90f1-b93f7f25f0be",
   "metadata": {
    "tags": []
   },
   "outputs": [
    {
     "name": "stdout",
     "output_type": "stream",
     "text": [
      "T-test: a/b (p=0.049 < 0.05). Reject null hypothesis that 2 independent samples have identical average (expected) values\n",
      "T-test: a/c (p=0.069 > 0.05). Cannot reject null hypothesis that 2 independent samples have identical average (expected) values\n",
      "T-test: b/c (p=0.622 > 0.05). Cannot reject null hypothesis that 2 independent samples have identical average (expected) values\n"
     ]
    }
   ],
   "source": [
    "# Perform t-test on each pair of conditions\n",
    "pairs = [['a','b'],['a','c'],['b','c']]\n",
    "for i in range(3):\n",
    "    statistic, p = stats.ttest_ind(df[pairs[i][0]],df[pairs[i][1]])\n",
    "    if p < 0.05:\n",
    "        print(\"T-test: \" + pairs[i][0] + \"/\" + pairs[i][1] \n",
    "              + \" (p=\" + \"{:.3f}\".format(p) + \" < 0.05). \" +\n",
    "              \"Reject null hypothesis that 2 independent \" + \n",
    "              \"samples have identical average (expected) values\")\n",
    "    else:\n",
    "        print(\"T-test: \"  + pairs[i][0] + \"/\" + pairs[i][1] + \n",
    "              \" (p=\" + \"{:.3f}\".format(p) + \" > 0.05). \" +\n",
    "              \"Cannot reject null hypothesis that 2 independent \" +\n",
    "              \"samples have identical average (expected) values\")"
   ]
  },
  {
   "cell_type": "markdown",
   "id": "8ef87a60-32d8-415c-927e-ae8b2710b87a",
   "metadata": {},
   "source": [
    "So, when we perform a series of t-tests, there is evidence that condition a and b have significantly different means. \n",
    "\n",
    "This is a different result to ANOVA. Which should we believe? What has happened here? If you can't answer this, then do some further reading."
   ]
  },
  {
   "cell_type": "markdown",
   "id": "247b2b30-6bed-42ed-81dd-6e7cbd8ec4e4",
   "metadata": {},
   "source": [
    "[END OF DOCUMENT]"
   ]
  }
 ],
 "metadata": {
  "kernelspec": {
   "display_name": "Python 3 (ipykernel)",
   "language": "python",
   "name": "python3"
  },
  "language_info": {
   "codemirror_mode": {
    "name": "ipython",
    "version": 3
   },
   "file_extension": ".py",
   "mimetype": "text/x-python",
   "name": "python",
   "nbconvert_exporter": "python",
   "pygments_lexer": "ipython3",
   "version": "3.9.12"
  }
 },
 "nbformat": 4,
 "nbformat_minor": 5
}
