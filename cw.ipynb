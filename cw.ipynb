{
 "cells": [
  {
   "cell_type": "markdown",
   "metadata": {},
   "source": [
    "### COMSM0140: Internet Economics and Financial Technology 2023. Main coursework. "
   ]
  },
  {
   "cell_type": "markdown",
   "metadata": {},
   "source": [
    "### Imran Zamin Ali"
   ]
  },
  {
   "cell_type": "markdown",
   "metadata": {},
   "source": [
    "### Initial Setup"
   ]
  },
  {
   "cell_type": "code",
   "execution_count": 1,
   "metadata": {
    "ExecuteTime": {
     "end_time": "2023-11-21T04:09:13.879346900Z",
     "start_time": "2023-11-21T04:09:13.748343Z"
    }
   },
   "outputs": [],
   "source": [
    "import pandas as pd\n",
    "# Initial Setup:\n",
    "# Import all the libraries we need\n",
    "\n",
    "from tqdm import tqdm\n",
    "import os\n",
    "from scipy import stats\n",
    "import seaborn as sns\n",
    "\n",
    "# Copied from the solutions from the Week 8 lab (https://www.ole.bris.ac.uk/bbcswebdav/pid-8039179-dt-content-rid-47461249_2/xid-47461249_2)\n",
    "import matplotlib.pyplot as plt\n",
    "import numpy as np\n",
    "import csv\n",
    "import math\n",
    "import random\n",
    "\n",
    "from BSE import market_session\n",
    "\n",
    "# The next are helper functions that you will use later, if they don't make \n",
    "# much sense now, don't worry too much about it they will become clearer later:\n",
    "\n",
    "# Use this to plot trades of a single experiment\n",
    "def plot_trades(trial_id):\n",
    "    prices_fname = trial_id + '_tape.csv'\n",
    "    x = np.empty(0)\n",
    "    y = np.empty(0)\n",
    "    with open(prices_fname, newline='') as csvfile:\n",
    "        reader = csv.reader(csvfile)\n",
    "        for row in reader:\n",
    "            time = float(row[1])\n",
    "            price = float(row[2])\n",
    "            x = np.append(x,time)\n",
    "            y = np.append(y,price)\n",
    "\n",
    "    plt.xlabel('Time')\n",
    "    plt.ylabel('Trade Price')\n",
    "    plt.plot(x, y, 'x', color='black') \n",
    "    \n",
    "# Use this to run an experiment n times and plot all trades\n",
    "def n_runs_plot_trades(n, trial_id, start_time, end_time, traders_spec, order_sched):\n",
    "    x = np.empty(0)\n",
    "    y = np.empty(0)\n",
    "\n",
    "    for i in range(n):\n",
    "        trialId = trial_id + '_' + str(i)\n",
    "        tdump = open(trialId + '_avg_balance.csv','w')\n",
    "\n",
    "        market_session(trialId, start_time, end_time, traders_spec, order_sched, tdump, True, False)\n",
    "        \n",
    "        tdump.close()\n",
    "\n",
    "        with open(trialId + '_tape.csv', newline='') as csvfile:\n",
    "            reader = csv.reader(csvfile)\n",
    "            for row in reader:\n",
    "                time = float(row[1])\n",
    "                price = float(row[2])\n",
    "                x = np.append(x,time)\n",
    "                y = np.append(y,price)\n",
    "\n",
    "    plt.plot(x, y, 'x', color='black')\n",
    "\n",
    "# !!! Don't use on it's own   \n",
    "def getorderprice(i, sched, n, mode):\n",
    "    pmin = min(sched[0][0], sched[0][1])\n",
    "    pmax = max(sched[0][0], sched[0][1])\n",
    "    prange = pmax - pmin\n",
    "    stepsize = prange / (n - 1)\n",
    "    halfstep = round(stepsize / 2.0)\n",
    "\n",
    "    if mode == 'fixed':\n",
    "        orderprice = pmin + int(i * stepsize)\n",
    "    elif mode == 'jittered':\n",
    "        orderprice = pmin + int(i * stepsize) + random.randint(-halfstep, halfstep)\n",
    "    elif mode == 'random':\n",
    "        if len(sched) > 1:\n",
    "            # more than one schedule: choose one equiprobably\n",
    "            s = random.randint(0, len(sched) - 1)\n",
    "            pmin = min(sched[s][0], sched[s][1])\n",
    "            pmax = max(sched[s][0], sched[s][1])\n",
    "        orderprice = random.randint(pmin, pmax)\n",
    "    return orderprice    \n",
    "\n",
    "# !!! Don't use on it's own\n",
    "def make_supply_demand_plot(bids, asks):\n",
    "    # total volume up to current order\n",
    "    volS = 0\n",
    "    volB = 0\n",
    "\n",
    "    fig, ax = plt.subplots()\n",
    "    plt.ylabel('Price')\n",
    "    plt.xlabel('Quantity')\n",
    "    \n",
    "    pr = 0\n",
    "    for b in bids:\n",
    "        if pr != 0:\n",
    "            # vertical line\n",
    "            ax.plot([volB,volB], [pr,b], 'r-')\n",
    "        # horizontal lines\n",
    "        line, = ax.plot([volB,volB+1], [b,b], 'r-')\n",
    "        volB += 1\n",
    "        pr = b\n",
    "    if bids:\n",
    "        line.set_label('Demand')\n",
    "        \n",
    "    pr = 0\n",
    "    for s in asks:\n",
    "        if pr != 0:\n",
    "            # vertical line\n",
    "            ax.plot([volS,volS], [pr,s], 'b-')\n",
    "        # horizontal lines\n",
    "        line, = ax.plot([volS,volS+1], [s,s], 'b-')\n",
    "        volS += 1\n",
    "        pr = s\n",
    "    if asks:\n",
    "        line.set_label('Supply')\n",
    "        \n",
    "    if bids or asks:\n",
    "        plt.legend()\n",
    "    plt.show()\n",
    "\n",
    "# Use this to plot supply and demand curves from supply and demand ranges and stepmode\n",
    "def plot_sup_dem(seller_num, sup_ranges, buyer_num, dem_ranges, stepmode):\n",
    "    asks = []\n",
    "    for s in range(seller_num):\n",
    "        asks.append(getorderprice(s, sup_ranges, seller_num, stepmode))\n",
    "    asks.sort()\n",
    "    bids = []\n",
    "    for b in range(buyer_num):\n",
    "        bids.append(getorderprice(b, dem_ranges, buyer_num, stepmode))\n",
    "    bids.sort()\n",
    "    bids.reverse()\n",
    "    \n",
    "    make_supply_demand_plot(bids, asks) \n",
    "\n",
    "# plot sorted trades, useful is some situations - won't be used in this worksheet\n",
    "def in_order_plot(trial_id):\n",
    "    prices_fname = trial_id + '_tape.csv'\n",
    "    y = np.empty(0)\n",
    "    with open(prices_fname, newline='') as csvfile:\n",
    "        reader = csv.reader(csvfile)\n",
    "        for row in reader:\n",
    "            price = float(row[2])\n",
    "            y = np.append(y,price)\n",
    "    y = np.sort(y)\n",
    "    x = list(range(len(y)))\n",
    "\n",
    "    plt.plot(x, y, 'x', color='black')   \n",
    "\n",
    "# plot offset function\n",
    "def plot_offset_fn(offset_fn, total_time_seconds):   \n",
    "    x = list(range(total_time_seconds))\n",
    "    offsets = []\n",
    "    for i in range(total_time_seconds):\n",
    "        offsets.append(offset_fn(i))\n",
    "    plt.plot(x, offsets, 'x', color='black')  \n",
    "    \n",
    "## these are my own\n",
    "\n",
    "# given a tuple of the algos, a tuple of the percentages for that trader and the number of traders return the specs\n",
    "def get_traders_specs(algos, percentages, num_traders):\n",
    "    if sum(percentages) != 100:\n",
    "        raise Exception('The percentages should add to 100')\n",
    "    if len(algos) != len(percentages):\n",
    "        raise Exception(f'algos len: {len(algos)} %s len: {len(percentages)} are not equal')\n",
    "    \n",
    "    num_traders_each = tuple(round(percent * num_traders / 100) for percent in percentages)\n",
    "    if sum(num_traders_each) != num_traders:\n",
    "        raise Exception('num traders each != num traders')\n",
    "    return list(zip(algos, num_traders_each))\n",
    "\n",
    "def run_stat_tests(profits):\n",
    "    print('Check each column if the data is normally distrubuted with the shapiro wilk test:')\n",
    "    is_normal = True\n",
    "    # check if the data is normally distributed\n",
    "    for col in profits.columns:\n",
    "        _, pvalue = stats.shapiro(profits[col])\n",
    "        if pvalue < 0.05:\n",
    "            print(f'Condition: {col}. Reject null hypothesis (p={pvalue}). There is enough evidence to suggest the data is not normally distributed')\n",
    "            is_normal = False\n",
    "        else:\n",
    "            print(f'Condition: {col}. Do not reject null hypothesis (p={pvalue}). There is not enough evidence to suggest the data is not normally distributed')\n",
    "            \n",
    "    columns = [profits[column] for column in profits.columns]\n",
    "    sns.kdeplot(data=profits, fill=False)\n",
    "    is_two_dist = len(columns) == 2\n",
    "    pvalue = None\n",
    "    if is_normal:\n",
    "        test_name = 't-test' if is_two_dist else 'ANOVA'\n",
    "        print(f'There are {len(columns)} distributions. Therefore using {test_name}')\n",
    "        _, pvalue = stats.ttest_ind(*columns) if is_two_dist else stats.f_oneway(*columns)\n",
    "    else:\n",
    "        test_name = 'Mann-Whitney' if is_two_dist else 'Kruskal-Wallis'\n",
    "        print(f'There are {len(columns)} distributions. Therefore using {test_name}')\n",
    "        _, pvalue = stats.mannwhitneyu(*columns) if is_two_dist else stats.kruskal(*columns)\n",
    "        \n",
    "    if pvalue < 0.05:\n",
    "        print(f'Reject null hypothesis (p={pvalue}). There is sufficient evidence to suggest groups have a population different mean')\n",
    "    else:\n",
    "        print(f'Do not reject null hypothesis (p={pvalue}). There is not enough evidence to suggest the groups have a different population mean')\n",
    "            \n",
    "# run n instances of market session. Collect the final profits for each trader for each session and store in a numpy array. Apply the appropriate hypothesis test\n",
    "def run_experiment(n, market_args, initial_seed):\n",
    "    # create an empty dataframe\n",
    "    # traders = market_args[3]\n",
    "    # buyers = traders['buyers']\n",
    "    # sellers = traders['sellers']\n",
    "    # algo_names = list({algo for (algo, _) in buyers+sellers})\n",
    "    # profits = pd.DataFrame(columns=algo_names)\n",
    "    profits = pd.DataFrame()\n",
    "    \n",
    "    print(f'n: {n}')\n",
    "    for i in range(n):\n",
    "        random.seed(initial_seed + i)\n",
    "        market_session(*market_args)\n",
    "        trial_id = market_args[0]\n",
    "        filename = f'{trial_id}_avg_balance.csv'\n",
    "        file = open(filename, 'r')\n",
    "        final_entry = (file.readlines()[-1]).split(',')\n",
    "        #print(len(final_entry))\n",
    "        #print(final_entry)\n",
    "        file.close()\n",
    "        os.remove(filename)\n",
    "        profit_entry = {}\n",
    "        for j in range(4, len(final_entry)-4, 4):\n",
    "            col_name = final_entry[j]\n",
    "            #print(col_name)\n",
    "            col_val = final_entry[j+1]\n",
    "            #print(col_val)\n",
    "            profit_entry[col_name] = int(col_val)\n",
    "            \n",
    "        #print(profit_entry)\n",
    "        entry_df = pd.DataFrame([profit_entry])\n",
    "        #profits = profits.append(profit_entry, ignore_index=True)\n",
    "        profits = pd.concat([profits, entry_df], ignore_index=True)\n",
    "    run_stat_tests(profits)\n",
    "            \n",
    "    "
   ]
  },
  {
   "cell_type": "markdown",
   "metadata": {},
   "source": [
    "### Part A"
   ]
  },
  {
   "cell_type": "code",
   "execution_count": 2,
   "metadata": {
    "ExecuteTime": {
     "end_time": "2023-11-21T04:09:14.240318500Z",
     "start_time": "2023-11-21T04:09:13.788544300Z"
    }
   },
   "outputs": [
    {
     "data": {
      "text/plain": "<Figure size 640x480 with 1 Axes>",
      "image/png": "[encoded data removed]"
     },
     "metadata": {},
     "output_type": "display_data"
    }
   ],
   "source": [
    "sup_range = (310, 310)\n",
    "dem_range = (250, 490)\n",
    "num_buyers = 20\n",
    "num_sellers = 20\n",
    "r = 50\n",
    "r_vals = (r, 100 - r)\n",
    "algos = ('SHVR', 'ZIC')\n",
    "seller_specs = get_traders_specs(algos=algos, percentages=r_vals, num_traders=num_sellers)\n",
    "buyer_specs = get_traders_specs(algos=algos, percentages=r_vals, num_traders=num_buyers)\n",
    "traders_specs = {'sellers': seller_specs, 'buyers': buyer_specs}\n",
    "\n",
    "plot_sup_dem(num_buyers, [sup_range], num_sellers, [dem_range], 'fixed')\n",
    "\n"
   ]
  },
  {
   "cell_type": "code",
   "execution_count": 3,
   "outputs": [],
   "source": [
    "start_time = 0\n",
    "end_time = 15 * 60\n",
    "supply_schedule = [{'from': start_time, 'to': end_time, 'ranges': [sup_range], 'stepmode': 'fixed'}]\n",
    "demand_schedule = [{'from': start_time, 'to': end_time, 'ranges': [dem_range], 'stepmode': 'fixed'}]\n",
    "order_interval = 10\n",
    "order_sched = {'sup': supply_schedule, 'dem': demand_schedule,\n",
    "              'interval': order_interval, 'timemode': 'periodic'}\n",
    "verbose = False\n",
    "dump_flags = {'dump_blotters': False, 'dump_lobs': False, 'dump_strats': False,\n",
    "              'dump_avgbals': True, 'dump_tape': False}"
   ],
   "metadata": {
    "collapsed": false,
    "ExecuteTime": {
     "end_time": "2023-11-21T04:09:14.250724900Z",
     "start_time": "2023-11-21T04:09:14.240318500Z"
    }
   }
  },
  {
   "cell_type": "code",
   "execution_count": 4,
   "outputs": [
    {
     "name": "stdout",
     "output_type": "stream",
     "text": [
      "n: 50\n",
      "Check each column if the data is normally distrubuted with the shapiro wilk test:\n",
      "Condition  SHVR. We cannot reject the null hypothesis (p=0.69). Therefore, data is normally distributed.\n",
      "Condition  ZIC. We cannot reject the null hypothesis (p=0.52). Therefore, data is normally distributed.\n",
      "There are 2 distributions. Therefore using t-test\n",
      "Do not reject null hypotheiss. There is not enough evidence to suggest the groups have a different population mean\n"
     ]
    }
   ],
   "source": [
    "# for i in tqdm(range(n)):\n",
    "#     random.seed(100) # changing the seed value will give us different seqences of random numbers\n",
    "#     trial_id = 'smith_chart_'\n",
    "#     market_session(trial_id, start_time, end_time, traders_specs, order_sched, dump_flags, verbose)\n",
    "trial_id = 'smith_chart'\n",
    "initial_seed = 100\n",
    "run_experiment(50, (trial_id, start_time, end_time, traders_specs, order_sched, dump_flags, verbose), initial_seed)\n",
    "\n",
    "# TODO create a for loop that runs to n. Changes the seed each time as well as the trial id. Dumps the avgbals. Take the total profits for each trader type from the last line of the csv file and puts it into a dataframe\n",
    "\n",
    "# "
   ],
   "metadata": {
    "collapsed": false,
    "ExecuteTime": {
     "end_time": "2023-11-21T04:09:51.337822200Z",
     "start_time": "2023-11-21T04:09:14.251719900Z"
    }
   }
  },
  {
   "cell_type": "code",
   "execution_count": 5,
   "outputs": [
    {
     "name": "stdout",
     "output_type": "stream",
     "text": [
      "n: 500\n",
      "Check each column if the data is normally distrubuted with the shapiro wilk test:\n",
      "Condition  SHVR. We cannot reject the null hypothesis (p=0.41). Therefore, data is normally distributed.\n",
      "Condition  ZIC. We cannot reject the null hypothesis (p=0.28). Therefore, data is normally distributed.\n",
      "There are 2 distributions. Therefore using t-test\n",
      "Do not reject null hypotheiss. There is not enough evidence to suggest the groups have a different population mean\n"
     ]
    }
   ],
   "source": [
    "run_experiment(500, (trial_id, start_time, end_time, traders_specs, order_sched, dump_flags, verbose), initial_seed)"
   ],
   "metadata": {
    "collapsed": false,
    "ExecuteTime": {
     "end_time": "2023-11-21T04:15:37.985579200Z",
     "start_time": "2023-11-21T04:09:51.338327100Z"
    }
   }
  },
  {
   "cell_type": "markdown",
   "source": [
    "### Part B"
   ],
   "metadata": {
    "collapsed": false
   }
  },
  {
   "cell_type": "code",
   "execution_count": 6,
   "outputs": [
    {
     "name": "stderr",
     "output_type": "stream",
     "text": [
      "  0%|          | 0/9 [00:00<?, ?it/s]"
     ]
    },
    {
     "name": "stdout",
     "output_type": "stream",
     "text": [
      "R: 10\n",
      "n: 50\n"
     ]
    },
    {
     "name": "stderr",
     "output_type": "stream",
     "text": [
      " 11%|█         | 1/9 [00:30<04:02, 30.27s/it]"
     ]
    },
    {
     "name": "stdout",
     "output_type": "stream",
     "text": [
      "Check each column if the data is normally distrubuted with the shapiro wilk test:\n",
      "Condition  SHVR. We can reject the null hypothesis (p=0.03). Therefore, data is not normally distributed.\n",
      "Condition  ZIC. We can reject the null hypothesis (p=0.03). Therefore, data is not normally distributed.\n",
      "There are 2 distributions. Therefore using Mann-Whitney\n",
      "Reject null hypothesis. There is sufficient evidence to suggest groups have a population different mean\n",
      "R: 20\n",
      "n: 50\n"
     ]
    },
    {
     "name": "stderr",
     "output_type": "stream",
     "text": [
      " 22%|██▏       | 2/9 [01:00<03:30, 30.14s/it]"
     ]
    },
    {
     "name": "stdout",
     "output_type": "stream",
     "text": [
      "Check each column if the data is normally distrubuted with the shapiro wilk test:\n",
      "Condition  SHVR. We cannot reject the null hypothesis (p=0.39). Therefore, data is normally distributed.\n",
      "Condition  ZIC. We cannot reject the null hypothesis (p=0.54). Therefore, data is normally distributed.\n",
      "There are 2 distributions. Therefore using t-test\n",
      "Reject null hypothesis. There is sufficient evidence to suggest groups have a population different mean\n",
      "R: 30\n",
      "n: 50\n"
     ]
    },
    {
     "name": "stderr",
     "output_type": "stream",
     "text": [
      " 33%|███▎      | 3/9 [01:30<03:01, 30.21s/it]"
     ]
    },
    {
     "name": "stdout",
     "output_type": "stream",
     "text": [
      "Check each column if the data is normally distrubuted with the shapiro wilk test:\n",
      "Condition  SHVR. We cannot reject the null hypothesis (p=0.75). Therefore, data is normally distributed.\n",
      "Condition  ZIC. We cannot reject the null hypothesis (p=0.68). Therefore, data is normally distributed.\n",
      "There are 2 distributions. Therefore using t-test\n",
      "Reject null hypothesis. There is sufficient evidence to suggest groups have a population different mean\n",
      "R: 40\n",
      "n: 50\n"
     ]
    },
    {
     "name": "stderr",
     "output_type": "stream",
     "text": [
      " 44%|████▍     | 4/9 [02:01<02:32, 30.51s/it]"
     ]
    },
    {
     "name": "stdout",
     "output_type": "stream",
     "text": [
      "Check each column if the data is normally distrubuted with the shapiro wilk test:\n",
      "Condition  SHVR. We cannot reject the null hypothesis (p=0.15). Therefore, data is normally distributed.\n",
      "Condition  ZIC. We cannot reject the null hypothesis (p=0.52). Therefore, data is normally distributed.\n",
      "There are 2 distributions. Therefore using t-test\n",
      "Reject null hypothesis. There is sufficient evidence to suggest groups have a population different mean\n",
      "R: 50\n",
      "n: 50\n"
     ]
    },
    {
     "name": "stderr",
     "output_type": "stream",
     "text": [
      " 56%|█████▌    | 5/9 [02:31<02:01, 30.46s/it]"
     ]
    },
    {
     "name": "stdout",
     "output_type": "stream",
     "text": [
      "Check each column if the data is normally distrubuted with the shapiro wilk test:\n",
      "Condition  SHVR. We cannot reject the null hypothesis (p=0.69). Therefore, data is normally distributed.\n",
      "Condition  ZIC. We cannot reject the null hypothesis (p=0.52). Therefore, data is normally distributed.\n",
      "There are 2 distributions. Therefore using t-test\n",
      "Do not reject null hypotheiss. There is not enough evidence to suggest the groups have a different population mean\n",
      "R: 60\n",
      "n: 50\n"
     ]
    },
    {
     "name": "stderr",
     "output_type": "stream",
     "text": [
      " 67%|██████▋   | 6/9 [03:01<01:30, 30.14s/it]"
     ]
    },
    {
     "name": "stdout",
     "output_type": "stream",
     "text": [
      "Check each column if the data is normally distrubuted with the shapiro wilk test:\n",
      "Condition  SHVR. We cannot reject the null hypothesis (p=0.26). Therefore, data is normally distributed.\n",
      "Condition  ZIC. We cannot reject the null hypothesis (p=0.22). Therefore, data is normally distributed.\n",
      "There are 2 distributions. Therefore using t-test\n",
      "Reject null hypothesis. There is sufficient evidence to suggest groups have a population different mean\n",
      "R: 70\n",
      "n: 50\n"
     ]
    },
    {
     "name": "stderr",
     "output_type": "stream",
     "text": [
      " 78%|███████▊  | 7/9 [03:30<00:59, 29.86s/it]"
     ]
    },
    {
     "name": "stdout",
     "output_type": "stream",
     "text": [
      "Check each column if the data is normally distrubuted with the shapiro wilk test:\n",
      "Condition  SHVR. We cannot reject the null hypothesis (p=0.19). Therefore, data is normally distributed.\n",
      "Condition  ZIC. We cannot reject the null hypothesis (p=0.30). Therefore, data is normally distributed.\n",
      "There are 2 distributions. Therefore using t-test\n",
      "Reject null hypothesis. There is sufficient evidence to suggest groups have a population different mean\n",
      "R: 80\n",
      "n: 50\n"
     ]
    },
    {
     "name": "stderr",
     "output_type": "stream",
     "text": [
      " 89%|████████▉ | 8/9 [04:01<00:29, 29.98s/it]"
     ]
    },
    {
     "name": "stdout",
     "output_type": "stream",
     "text": [
      "Check each column if the data is normally distrubuted with the shapiro wilk test:\n",
      "Condition  SHVR. We cannot reject the null hypothesis (p=0.45). Therefore, data is normally distributed.\n",
      "Condition  ZIC. We cannot reject the null hypothesis (p=0.62). Therefore, data is normally distributed.\n",
      "There are 2 distributions. Therefore using t-test\n",
      "Reject null hypothesis. There is sufficient evidence to suggest groups have a population different mean\n",
      "R: 90\n",
      "n: 50\n"
     ]
    },
    {
     "name": "stderr",
     "output_type": "stream",
     "text": [
      "100%|██████████| 9/9 [04:32<00:00, 30.33s/it]\n"
     ]
    },
    {
     "name": "stdout",
     "output_type": "stream",
     "text": [
      "Check each column if the data is normally distrubuted with the shapiro wilk test:\n",
      "Condition  SHVR. We cannot reject the null hypothesis (p=0.34). Therefore, data is normally distributed.\n",
      "Condition  ZIC. We cannot reject the null hypothesis (p=0.12). Therefore, data is normally distributed.\n",
      "There are 2 distributions. Therefore using t-test\n",
      "Reject null hypothesis. There is sufficient evidence to suggest groups have a population different mean\n",
      "-----------------------------------------------------------------------------------------------------\n"
     ]
    },
    {
     "name": "stderr",
     "output_type": "stream",
     "text": [
      "  0%|          | 0/9 [00:00<?, ?it/s]"
     ]
    },
    {
     "name": "stdout",
     "output_type": "stream",
     "text": [
      "R: 10\n",
      "n: 500\n"
     ]
    },
    {
     "name": "stderr",
     "output_type": "stream",
     "text": [
      " 11%|█         | 1/9 [04:52<38:59, 292.43s/it]"
     ]
    },
    {
     "name": "stdout",
     "output_type": "stream",
     "text": [
      "Check each column if the data is normally distrubuted with the shapiro wilk test:\n",
      "Condition  SHVR. We can reject the null hypothesis (p=0.00). Therefore, data is not normally distributed.\n",
      "Condition  ZIC. We can reject the null hypothesis (p=0.00). Therefore, data is not normally distributed.\n",
      "There are 2 distributions. Therefore using Mann-Whitney\n",
      "Reject null hypothesis. There is sufficient evidence to suggest groups have a population different mean\n",
      "R: 20\n",
      "n: 500\n"
     ]
    },
    {
     "name": "stderr",
     "output_type": "stream",
     "text": [
      " 22%|██▏       | 2/9 [09:49<34:25, 295.11s/it]"
     ]
    },
    {
     "name": "stdout",
     "output_type": "stream",
     "text": [
      "Check each column if the data is normally distrubuted with the shapiro wilk test:\n",
      "Condition  SHVR. We can reject the null hypothesis (p=0.00). Therefore, data is not normally distributed.\n",
      "Condition  ZIC. We can reject the null hypothesis (p=0.00). Therefore, data is not normally distributed.\n",
      "There are 2 distributions. Therefore using Mann-Whitney\n",
      "Reject null hypothesis. There is sufficient evidence to suggest groups have a population different mean\n",
      "R: 30\n",
      "n: 500\n"
     ]
    },
    {
     "name": "stderr",
     "output_type": "stream",
     "text": [
      " 33%|███▎      | 3/9 [14:50<29:46, 297.80s/it]"
     ]
    },
    {
     "name": "stdout",
     "output_type": "stream",
     "text": [
      "Check each column if the data is normally distrubuted with the shapiro wilk test:\n",
      "Condition  SHVR. We cannot reject the null hypothesis (p=0.30). Therefore, data is normally distributed.\n",
      "Condition  ZIC. We cannot reject the null hypothesis (p=0.30). Therefore, data is normally distributed.\n",
      "There are 2 distributions. Therefore using t-test\n",
      "Reject null hypothesis. There is sufficient evidence to suggest groups have a population different mean\n",
      "R: 40\n",
      "n: 500\n"
     ]
    },
    {
     "name": "stderr",
     "output_type": "stream",
     "text": [
      " 44%|████▍     | 4/9 [19:48<24:49, 297.90s/it]"
     ]
    },
    {
     "name": "stdout",
     "output_type": "stream",
     "text": [
      "Check each column if the data is normally distrubuted with the shapiro wilk test:\n",
      "Condition  SHVR. We cannot reject the null hypothesis (p=0.12). Therefore, data is normally distributed.\n",
      "Condition  ZIC. We cannot reject the null hypothesis (p=0.29). Therefore, data is normally distributed.\n",
      "There are 2 distributions. Therefore using t-test\n",
      "Reject null hypothesis. There is sufficient evidence to suggest groups have a population different mean\n",
      "R: 50\n",
      "n: 500\n"
     ]
    },
    {
     "name": "stderr",
     "output_type": "stream",
     "text": [
      " 56%|█████▌    | 5/9 [24:52<20:01, 300.26s/it]"
     ]
    },
    {
     "name": "stdout",
     "output_type": "stream",
     "text": [
      "Check each column if the data is normally distrubuted with the shapiro wilk test:\n",
      "Condition  SHVR. We cannot reject the null hypothesis (p=0.41). Therefore, data is normally distributed.\n",
      "Condition  ZIC. We cannot reject the null hypothesis (p=0.28). Therefore, data is normally distributed.\n",
      "There are 2 distributions. Therefore using t-test\n",
      "Do not reject null hypotheiss. There is not enough evidence to suggest the groups have a different population mean\n",
      "R: 60\n",
      "n: 500\n"
     ]
    },
    {
     "name": "stderr",
     "output_type": "stream",
     "text": [
      " 67%|██████▋   | 6/9 [29:53<15:01, 300.47s/it]"
     ]
    },
    {
     "name": "stdout",
     "output_type": "stream",
     "text": [
      "Check each column if the data is normally distrubuted with the shapiro wilk test:\n",
      "Condition  SHVR. We cannot reject the null hypothesis (p=0.29). Therefore, data is normally distributed.\n",
      "Condition  ZIC. We cannot reject the null hypothesis (p=0.30). Therefore, data is normally distributed.\n",
      "There are 2 distributions. Therefore using t-test\n",
      "Reject null hypothesis. There is sufficient evidence to suggest groups have a population different mean\n",
      "R: 70\n",
      "n: 500\n"
     ]
    },
    {
     "name": "stderr",
     "output_type": "stream",
     "text": [
      " 78%|███████▊  | 7/9 [35:01<10:05, 302.77s/it]"
     ]
    },
    {
     "name": "stdout",
     "output_type": "stream",
     "text": [
      "Check each column if the data is normally distrubuted with the shapiro wilk test:\n",
      "Condition  SHVR. We cannot reject the null hypothesis (p=0.51). Therefore, data is normally distributed.\n",
      "Condition  ZIC. We cannot reject the null hypothesis (p=0.43). Therefore, data is normally distributed.\n",
      "There are 2 distributions. Therefore using t-test\n",
      "Reject null hypothesis. There is sufficient evidence to suggest groups have a population different mean\n",
      "R: 80\n",
      "n: 500\n"
     ]
    },
    {
     "name": "stderr",
     "output_type": "stream",
     "text": [
      " 89%|████████▉ | 8/9 [40:11<05:05, 305.18s/it]"
     ]
    },
    {
     "name": "stdout",
     "output_type": "stream",
     "text": [
      "Check each column if the data is normally distrubuted with the shapiro wilk test:\n",
      "Condition  SHVR. We cannot reject the null hypothesis (p=0.20). Therefore, data is normally distributed.\n",
      "Condition  ZIC. We cannot reject the null hypothesis (p=0.27). Therefore, data is normally distributed.\n",
      "There are 2 distributions. Therefore using t-test\n",
      "Reject null hypothesis. There is sufficient evidence to suggest groups have a population different mean\n",
      "R: 90\n",
      "n: 500\n"
     ]
    },
    {
     "name": "stderr",
     "output_type": "stream",
     "text": [
      "100%|██████████| 9/9 [46:06<00:00, 307.44s/it]"
     ]
    },
    {
     "name": "stdout",
     "output_type": "stream",
     "text": [
      "Check each column if the data is normally distrubuted with the shapiro wilk test:\n",
      "Condition  SHVR. We can reject the null hypothesis (p=0.00). Therefore, data is not normally distributed.\n",
      "Condition  ZIC. We can reject the null hypothesis (p=0.00). Therefore, data is not normally distributed.\n",
      "There are 2 distributions. Therefore using Mann-Whitney\n",
      "Reject null hypothesis. There is sufficient evidence to suggest groups have a population different mean\n",
      "-----------------------------------------------------------------------------------------------------\n"
     ]
    },
    {
     "name": "stderr",
     "output_type": "stream",
     "text": [
      "\n"
     ]
    }
   ],
   "source": [
    "def part_b():\n",
    "    n_values = [50, 500]\n",
    "    for n in n_values:\n",
    "        r_list = list(range(10, 91, 10))\n",
    "        for r in r_list:\n",
    "            r_vals = (r, 100-r)\n",
    "            seller_specs = get_traders_specs(algos=algos, percentages=r_vals, num_traders=num_sellers)\n",
    "            buyer_specs = get_traders_specs(algos=algos, percentages=r_vals, num_traders=num_buyers)\n",
    "            traders_specs = {'sellers': seller_specs, 'buyers': buyer_specs}\n",
    "            print(f'R: {r}')\n",
    "            run_experiment(n, (trial_id, start_time, end_time, traders_specs, order_sched, dump_flags, verbose), initial_seed)\n",
    "        \n",
    "            print('-----------------------------------------------------------------------------------------------------')\n",
    "\n",
    "part_b()"
   ],
   "metadata": {
    "collapsed": false,
    "ExecuteTime": {
     "end_time": "2023-11-21T05:06:17.945912600Z",
     "start_time": "2023-11-21T04:15:37.989814500Z"
    }
   }
  },
  {
   "cell_type": "markdown",
   "source": [
    "### Part C"
   ],
   "metadata": {
    "collapsed": false
   }
  },
  {
   "cell_type": "code",
   "execution_count": 16,
   "outputs": [],
   "source": [
    "def part_c():\n",
    "    algos = ('SHVR', 'GVWY', 'ZIC', 'ZIP')\n",
    "    ratios_list = [[25, 25, 25, 25], [40,20,20,20], [10,30,30,30], [70,10,10,10]]\n",
    "    n_vals = [50, 500]\n",
    "    for n in n_vals:\n",
    "        for i in range(len(ratios_list)):\n",
    "            for j in range(len(ratios_list[i])):\n",
    "                seller_specs = get_traders_specs(algos=algos, percentages=tuple(ratios_list[i]), num_traders=num_sellers)\n",
    "                buyer_specs = get_traders_specs(algos=algos, percentages=tuple(ratios_list[i]), num_traders=num_sellers)\n",
    "                traders_specs = {'sellers': seller_specs, 'buyers': buyer_specs}\n",
    "                order_sched = {'sup': supply_schedule, 'dem': demand_schedule, 'interval': order_interval, 'timemode': 'periodic'}\n",
    "                print(seller_specs)\n",
    "                run_experiment(n, (trial_id, start_time, end_time, traders_specs, order_sched, dump_flags, verbose), initial_seed)\n",
    "                print('-----------------------------------------------------------------------------------------------------')\n",
    "                if len(set(ratios_list[i])) == 1: # no need to permute if all elements are equal\n",
    "                    break\n",
    "                ratios_list[i].append(ratios_list[i].pop(0)) # rotates by 1  "
   ],
   "metadata": {
    "collapsed": false,
    "ExecuteTime": {
     "end_time": "2023-11-22T00:27:46.595513Z",
     "start_time": "2023-11-22T00:27:46.503487800Z"
    }
   }
  },
  {
   "cell_type": "code",
   "execution_count": 17,
   "outputs": [
    {
     "name": "stdout",
     "output_type": "stream",
     "text": [
      "[('SHVR', 5), ('GVWY', 5), ('ZIC', 5), ('ZIP', 5)]\n",
      "n: 50\n",
      "Check each column if the data is normally distrubuted with the shapiro wilk test:\n",
      "Condition  GVWY. We cannot reject the null hypothesis (p=0.52). Therefore, data is normally distributed.\n",
      "Condition  SHVR. We can reject the null hypothesis (p=0.01). Therefore, data is not normally distributed.\n",
      "Condition  ZIC. We cannot reject the null hypothesis (p=0.48). Therefore, data is normally distributed.\n",
      "Condition  ZIP. We cannot reject the null hypothesis (p=0.18). Therefore, data is normally distributed.\n",
      "There are 4 distributions. Therefore using Kruskal-Wallis\n",
      "Reject null hypothesis. There is sufficient evidence to suggest groups have a population different mean\n",
      "-----------------------------------------------------------------------------------------------------\n",
      "[('SHVR', 8), ('GVWY', 4), ('ZIC', 4), ('ZIP', 4)]\n",
      "n: 50\n",
      "Check each column if the data is normally distrubuted with the shapiro wilk test:\n",
      "Condition  GVWY. We cannot reject the null hypothesis (p=0.57). Therefore, data is normally distributed.\n",
      "Condition  SHVR. We cannot reject the null hypothesis (p=0.76). Therefore, data is normally distributed.\n",
      "Condition  ZIC. We cannot reject the null hypothesis (p=0.70). Therefore, data is normally distributed.\n",
      "Condition  ZIP. We cannot reject the null hypothesis (p=0.43). Therefore, data is normally distributed.\n",
      "There are 4 distributions. Therefore using ANOVA\n",
      "Reject null hypothesis. There is sufficient evidence to suggest groups have a population different mean\n",
      "-----------------------------------------------------------------------------------------------------\n",
      "[('SHVR', 4), ('GVWY', 4), ('ZIC', 4), ('ZIP', 8)]\n",
      "n: 50\n",
      "Check each column if the data is normally distrubuted with the shapiro wilk test:\n",
      "Condition  GVWY. We cannot reject the null hypothesis (p=0.36). Therefore, data is normally distributed.\n",
      "Condition  SHVR. We cannot reject the null hypothesis (p=0.81). Therefore, data is normally distributed.\n",
      "Condition  ZIC. We cannot reject the null hypothesis (p=0.74). Therefore, data is normally distributed.\n",
      "Condition  ZIP. We cannot reject the null hypothesis (p=0.38). Therefore, data is normally distributed.\n",
      "There are 4 distributions. Therefore using ANOVA\n",
      "Reject null hypothesis. There is sufficient evidence to suggest groups have a population different mean\n",
      "-----------------------------------------------------------------------------------------------------\n",
      "[('SHVR', 4), ('GVWY', 4), ('ZIC', 8), ('ZIP', 4)]\n",
      "n: 50\n",
      "Check each column if the data is normally distrubuted with the shapiro wilk test:\n",
      "Condition  GVWY. We cannot reject the null hypothesis (p=0.49). Therefore, data is normally distributed.\n",
      "Condition  SHVR. We cannot reject the null hypothesis (p=0.34). Therefore, data is normally distributed.\n",
      "Condition  ZIC. We cannot reject the null hypothesis (p=0.56). Therefore, data is normally distributed.\n",
      "Condition  ZIP. We cannot reject the null hypothesis (p=0.68). Therefore, data is normally distributed.\n",
      "There are 4 distributions. Therefore using ANOVA\n",
      "Reject null hypothesis. There is sufficient evidence to suggest groups have a population different mean\n",
      "-----------------------------------------------------------------------------------------------------\n",
      "[('SHVR', 4), ('GVWY', 8), ('ZIC', 4), ('ZIP', 4)]\n",
      "n: 50\n",
      "Check each column if the data is normally distrubuted with the shapiro wilk test:\n",
      "Condition  GVWY. We cannot reject the null hypothesis (p=0.21). Therefore, data is normally distributed.\n",
      "Condition  SHVR. We cannot reject the null hypothesis (p=0.44). Therefore, data is normally distributed.\n",
      "Condition  ZIC. We cannot reject the null hypothesis (p=0.92). Therefore, data is normally distributed.\n",
      "Condition  ZIP. We cannot reject the null hypothesis (p=0.85). Therefore, data is normally distributed.\n",
      "There are 4 distributions. Therefore using ANOVA\n",
      "Reject null hypothesis. There is sufficient evidence to suggest groups have a population different mean\n",
      "-----------------------------------------------------------------------------------------------------\n",
      "[('SHVR', 2), ('GVWY', 6), ('ZIC', 6), ('ZIP', 6)]\n",
      "n: 50\n",
      "Check each column if the data is normally distrubuted with the shapiro wilk test:\n",
      "Condition  GVWY. We cannot reject the null hypothesis (p=0.28). Therefore, data is normally distributed.\n",
      "Condition  SHVR. We cannot reject the null hypothesis (p=0.26). Therefore, data is normally distributed.\n",
      "Condition  ZIC. We cannot reject the null hypothesis (p=0.07). Therefore, data is normally distributed.\n",
      "Condition  ZIP. We cannot reject the null hypothesis (p=0.64). Therefore, data is normally distributed.\n",
      "There are 4 distributions. Therefore using ANOVA\n",
      "Reject null hypothesis. There is sufficient evidence to suggest groups have a population different mean\n",
      "-----------------------------------------------------------------------------------------------------\n",
      "[('SHVR', 6), ('GVWY', 6), ('ZIC', 6), ('ZIP', 2)]\n",
      "n: 50\n",
      "Check each column if the data is normally distrubuted with the shapiro wilk test:\n",
      "Condition  GVWY. We cannot reject the null hypothesis (p=0.35). Therefore, data is normally distributed.\n",
      "Condition  SHVR. We cannot reject the null hypothesis (p=0.31). Therefore, data is normally distributed.\n",
      "Condition  ZIC. We cannot reject the null hypothesis (p=0.05). Therefore, data is normally distributed.\n",
      "Condition  ZIP. We cannot reject the null hypothesis (p=0.07). Therefore, data is normally distributed.\n",
      "There are 4 distributions. Therefore using ANOVA\n",
      "Reject null hypothesis. There is sufficient evidence to suggest groups have a population different mean\n",
      "-----------------------------------------------------------------------------------------------------\n",
      "[('SHVR', 6), ('GVWY', 6), ('ZIC', 2), ('ZIP', 6)]\n",
      "n: 50\n",
      "Check each column if the data is normally distrubuted with the shapiro wilk test:\n",
      "Condition  GVWY. We cannot reject the null hypothesis (p=0.80). Therefore, data is normally distributed.\n",
      "Condition  SHVR. We cannot reject the null hypothesis (p=0.91). Therefore, data is normally distributed.\n",
      "Condition  ZIC. We cannot reject the null hypothesis (p=0.27). Therefore, data is normally distributed.\n",
      "Condition  ZIP. We cannot reject the null hypothesis (p=0.11). Therefore, data is normally distributed.\n",
      "There are 4 distributions. Therefore using ANOVA\n",
      "Reject null hypothesis. There is sufficient evidence to suggest groups have a population different mean\n",
      "-----------------------------------------------------------------------------------------------------\n",
      "[('SHVR', 6), ('GVWY', 2), ('ZIC', 6), ('ZIP', 6)]\n",
      "n: 50\n",
      "Check each column if the data is normally distrubuted with the shapiro wilk test:\n",
      "Condition  GVWY. We cannot reject the null hypothesis (p=0.18). Therefore, data is normally distributed.\n",
      "Condition  SHVR. We cannot reject the null hypothesis (p=0.70). Therefore, data is normally distributed.\n",
      "Condition  ZIC. We cannot reject the null hypothesis (p=0.05). Therefore, data is normally distributed.\n",
      "Condition  ZIP. We cannot reject the null hypothesis (p=0.08). Therefore, data is normally distributed.\n",
      "There are 4 distributions. Therefore using ANOVA\n",
      "Reject null hypothesis. There is sufficient evidence to suggest groups have a population different mean\n",
      "-----------------------------------------------------------------------------------------------------\n",
      "[('SHVR', 14), ('GVWY', 2), ('ZIC', 2), ('ZIP', 2)]\n",
      "n: 50\n",
      "Check each column if the data is normally distrubuted with the shapiro wilk test:\n",
      "Condition  GVWY. We can reject the null hypothesis (p=0.03). Therefore, data is not normally distributed.\n",
      "Condition  SHVR. We cannot reject the null hypothesis (p=0.51). Therefore, data is normally distributed.\n",
      "Condition  ZIC. We cannot reject the null hypothesis (p=0.61). Therefore, data is normally distributed.\n",
      "Condition  ZIP. We cannot reject the null hypothesis (p=0.38). Therefore, data is normally distributed.\n",
      "There are 4 distributions. Therefore using Kruskal-Wallis\n",
      "Reject null hypothesis. There is sufficient evidence to suggest groups have a population different mean\n",
      "-----------------------------------------------------------------------------------------------------\n",
      "[('SHVR', 2), ('GVWY', 2), ('ZIC', 2), ('ZIP', 14)]\n",
      "n: 50\n",
      "Check each column if the data is normally distrubuted with the shapiro wilk test:\n",
      "Condition  GVWY. We cannot reject the null hypothesis (p=0.54). Therefore, data is normally distributed.\n",
      "Condition  SHVR. We can reject the null hypothesis (p=0.05). Therefore, data is not normally distributed.\n",
      "Condition  ZIC. We can reject the null hypothesis (p=0.02). Therefore, data is not normally distributed.\n",
      "Condition  ZIP. We can reject the null hypothesis (p=0.01). Therefore, data is not normally distributed.\n",
      "There are 4 distributions. Therefore using Kruskal-Wallis\n",
      "Reject null hypothesis. There is sufficient evidence to suggest groups have a population different mean\n",
      "-----------------------------------------------------------------------------------------------------\n",
      "[('SHVR', 2), ('GVWY', 2), ('ZIC', 14), ('ZIP', 2)]\n",
      "n: 50\n",
      "Check each column if the data is normally distrubuted with the shapiro wilk test:\n",
      "Condition  GVWY. We cannot reject the null hypothesis (p=0.13). Therefore, data is normally distributed.\n",
      "Condition  SHVR. We cannot reject the null hypothesis (p=0.09). Therefore, data is normally distributed.\n",
      "Condition  ZIC. We cannot reject the null hypothesis (p=0.07). Therefore, data is normally distributed.\n",
      "Condition  ZIP. We cannot reject the null hypothesis (p=0.27). Therefore, data is normally distributed.\n",
      "There are 4 distributions. Therefore using ANOVA\n",
      "Reject null hypothesis. There is sufficient evidence to suggest groups have a population different mean\n",
      "-----------------------------------------------------------------------------------------------------\n",
      "[('SHVR', 2), ('GVWY', 14), ('ZIC', 2), ('ZIP', 2)]\n",
      "n: 50\n",
      "Check each column if the data is normally distrubuted with the shapiro wilk test:\n",
      "Condition  GVWY. We cannot reject the null hypothesis (p=0.62). Therefore, data is normally distributed.\n",
      "Condition  SHVR. We can reject the null hypothesis (p=0.04). Therefore, data is not normally distributed.\n",
      "Condition  ZIC. We cannot reject the null hypothesis (p=0.45). Therefore, data is normally distributed.\n",
      "Condition  ZIP. We cannot reject the null hypothesis (p=0.09). Therefore, data is normally distributed.\n",
      "There are 4 distributions. Therefore using Kruskal-Wallis\n",
      "Reject null hypothesis. There is sufficient evidence to suggest groups have a population different mean\n",
      "-----------------------------------------------------------------------------------------------------\n",
      "[('SHVR', 5), ('GVWY', 5), ('ZIC', 5), ('ZIP', 5)]\n",
      "n: 500\n",
      "Check each column if the data is normally distrubuted with the shapiro wilk test:\n",
      "Condition  GVWY. We cannot reject the null hypothesis (p=0.35). Therefore, data is normally distributed.\n",
      "Condition  SHVR. We cannot reject the null hypothesis (p=0.54). Therefore, data is normally distributed.\n",
      "Condition  ZIC. We cannot reject the null hypothesis (p=0.19). Therefore, data is normally distributed.\n",
      "Condition  ZIP. We can reject the null hypothesis (p=0.00). Therefore, data is not normally distributed.\n",
      "There are 4 distributions. Therefore using Kruskal-Wallis\n",
      "Reject null hypothesis. There is sufficient evidence to suggest groups have a population different mean\n",
      "-----------------------------------------------------------------------------------------------------\n",
      "[('SHVR', 8), ('GVWY', 4), ('ZIC', 4), ('ZIP', 4)]\n",
      "n: 500\n",
      "Check each column if the data is normally distrubuted with the shapiro wilk test:\n",
      "Condition  GVWY. We cannot reject the null hypothesis (p=0.62). Therefore, data is normally distributed.\n",
      "Condition  SHVR. We cannot reject the null hypothesis (p=0.41). Therefore, data is normally distributed.\n",
      "Condition  ZIC. We can reject the null hypothesis (p=0.01). Therefore, data is not normally distributed.\n",
      "Condition  ZIP. We can reject the null hypothesis (p=0.00). Therefore, data is not normally distributed.\n",
      "There are 4 distributions. Therefore using Kruskal-Wallis\n",
      "Reject null hypothesis. There is sufficient evidence to suggest groups have a population different mean\n",
      "-----------------------------------------------------------------------------------------------------\n",
      "[('SHVR', 4), ('GVWY', 4), ('ZIC', 4), ('ZIP', 8)]\n",
      "n: 500\n",
      "Check each column if the data is normally distrubuted with the shapiro wilk test:\n",
      "Condition  GVWY. We cannot reject the null hypothesis (p=0.12). Therefore, data is normally distributed.\n",
      "Condition  SHVR. We cannot reject the null hypothesis (p=0.10). Therefore, data is normally distributed.\n",
      "Condition  ZIC. We cannot reject the null hypothesis (p=0.18). Therefore, data is normally distributed.\n",
      "Condition  ZIP. We can reject the null hypothesis (p=0.00). Therefore, data is not normally distributed.\n",
      "There are 4 distributions. Therefore using Kruskal-Wallis\n",
      "Reject null hypothesis. There is sufficient evidence to suggest groups have a population different mean\n",
      "-----------------------------------------------------------------------------------------------------\n",
      "[('SHVR', 4), ('GVWY', 4), ('ZIC', 8), ('ZIP', 4)]\n",
      "n: 500\n",
      "Check each column if the data is normally distrubuted with the shapiro wilk test:\n",
      "Condition  GVWY. We can reject the null hypothesis (p=0.05). Therefore, data is not normally distributed.\n",
      "Condition  SHVR. We can reject the null hypothesis (p=0.00). Therefore, data is not normally distributed.\n",
      "Condition  ZIC. We cannot reject the null hypothesis (p=0.09). Therefore, data is normally distributed.\n",
      "Condition  ZIP. We can reject the null hypothesis (p=0.00). Therefore, data is not normally distributed.\n",
      "There are 4 distributions. Therefore using Kruskal-Wallis\n",
      "Reject null hypothesis. There is sufficient evidence to suggest groups have a population different mean\n",
      "-----------------------------------------------------------------------------------------------------\n",
      "[('SHVR', 4), ('GVWY', 8), ('ZIC', 4), ('ZIP', 4)]\n",
      "n: 500\n",
      "Check each column if the data is normally distrubuted with the shapiro wilk test:\n",
      "Condition  GVWY. We cannot reject the null hypothesis (p=0.73). Therefore, data is normally distributed.\n",
      "Condition  SHVR. We can reject the null hypothesis (p=0.00). Therefore, data is not normally distributed.\n",
      "Condition  ZIC. We can reject the null hypothesis (p=0.01). Therefore, data is not normally distributed.\n",
      "Condition  ZIP. We can reject the null hypothesis (p=0.00). Therefore, data is not normally distributed.\n",
      "There are 4 distributions. Therefore using Kruskal-Wallis\n",
      "Reject null hypothesis. There is sufficient evidence to suggest groups have a population different mean\n",
      "-----------------------------------------------------------------------------------------------------\n",
      "[('SHVR', 2), ('GVWY', 6), ('ZIC', 6), ('ZIP', 6)]\n",
      "n: 500\n",
      "Check each column if the data is normally distrubuted with the shapiro wilk test:\n",
      "Condition  GVWY. We cannot reject the null hypothesis (p=0.63). Therefore, data is normally distributed.\n",
      "Condition  SHVR. We can reject the null hypothesis (p=0.00). Therefore, data is not normally distributed.\n",
      "Condition  ZIC. We cannot reject the null hypothesis (p=0.27). Therefore, data is normally distributed.\n",
      "Condition  ZIP. We can reject the null hypothesis (p=0.00). Therefore, data is not normally distributed.\n",
      "There are 4 distributions. Therefore using Kruskal-Wallis\n",
      "Reject null hypothesis. There is sufficient evidence to suggest groups have a population different mean\n",
      "-----------------------------------------------------------------------------------------------------\n",
      "[('SHVR', 6), ('GVWY', 6), ('ZIC', 6), ('ZIP', 2)]\n",
      "n: 500\n",
      "Check each column if the data is normally distrubuted with the shapiro wilk test:\n",
      "Condition  GVWY. We cannot reject the null hypothesis (p=0.12). Therefore, data is normally distributed.\n",
      "Condition  SHVR. We cannot reject the null hypothesis (p=0.68). Therefore, data is normally distributed.\n",
      "Condition  ZIC. We cannot reject the null hypothesis (p=0.06). Therefore, data is normally distributed.\n",
      "Condition  ZIP. We can reject the null hypothesis (p=0.00). Therefore, data is not normally distributed.\n",
      "There are 4 distributions. Therefore using Kruskal-Wallis\n",
      "Reject null hypothesis. There is sufficient evidence to suggest groups have a population different mean\n",
      "-----------------------------------------------------------------------------------------------------\n",
      "[('SHVR', 6), ('GVWY', 6), ('ZIC', 2), ('ZIP', 6)]\n",
      "n: 500\n",
      "Check each column if the data is normally distrubuted with the shapiro wilk test:\n",
      "Condition  GVWY. We cannot reject the null hypothesis (p=0.13). Therefore, data is normally distributed.\n",
      "Condition  SHVR. We cannot reject the null hypothesis (p=0.07). Therefore, data is normally distributed.\n",
      "Condition  ZIC. We can reject the null hypothesis (p=0.00). Therefore, data is not normally distributed.\n",
      "Condition  ZIP. We can reject the null hypothesis (p=0.00). Therefore, data is not normally distributed.\n",
      "There are 4 distributions. Therefore using Kruskal-Wallis\n",
      "Reject null hypothesis. There is sufficient evidence to suggest groups have a population different mean\n",
      "-----------------------------------------------------------------------------------------------------\n",
      "[('SHVR', 6), ('GVWY', 2), ('ZIC', 6), ('ZIP', 6)]\n",
      "n: 500\n",
      "Check each column if the data is normally distrubuted with the shapiro wilk test:\n",
      "Condition  GVWY. We can reject the null hypothesis (p=0.00). Therefore, data is not normally distributed.\n",
      "Condition  SHVR. We can reject the null hypothesis (p=0.04). Therefore, data is not normally distributed.\n",
      "Condition  ZIC. We cannot reject the null hypothesis (p=0.34). Therefore, data is normally distributed.\n",
      "Condition  ZIP. We can reject the null hypothesis (p=0.01). Therefore, data is not normally distributed.\n",
      "There are 4 distributions. Therefore using Kruskal-Wallis\n",
      "Reject null hypothesis. There is sufficient evidence to suggest groups have a population different mean\n",
      "-----------------------------------------------------------------------------------------------------\n",
      "[('SHVR', 14), ('GVWY', 2), ('ZIC', 2), ('ZIP', 2)]\n",
      "n: 500\n",
      "Check each column if the data is normally distrubuted with the shapiro wilk test:\n",
      "Condition  GVWY. We can reject the null hypothesis (p=0.00). Therefore, data is not normally distributed.\n",
      "Condition  SHVR. We cannot reject the null hypothesis (p=0.95). Therefore, data is normally distributed.\n",
      "Condition  ZIC. We can reject the null hypothesis (p=0.00). Therefore, data is not normally distributed.\n",
      "Condition  ZIP. We can reject the null hypothesis (p=0.00). Therefore, data is not normally distributed.\n",
      "There are 4 distributions. Therefore using Kruskal-Wallis\n",
      "Reject null hypothesis. There is sufficient evidence to suggest groups have a population different mean\n",
      "-----------------------------------------------------------------------------------------------------\n",
      "[('SHVR', 2), ('GVWY', 2), ('ZIC', 2), ('ZIP', 14)]\n",
      "n: 500\n",
      "Check each column if the data is normally distrubuted with the shapiro wilk test:\n",
      "Condition  GVWY. We can reject the null hypothesis (p=0.00). Therefore, data is not normally distributed.\n",
      "Condition  SHVR. We can reject the null hypothesis (p=0.00). Therefore, data is not normally distributed.\n",
      "Condition  ZIC. We can reject the null hypothesis (p=0.00). Therefore, data is not normally distributed.\n",
      "Condition  ZIP. We can reject the null hypothesis (p=0.00). Therefore, data is not normally distributed.\n",
      "There are 4 distributions. Therefore using Kruskal-Wallis\n",
      "Reject null hypothesis. There is sufficient evidence to suggest groups have a population different mean\n",
      "-----------------------------------------------------------------------------------------------------\n",
      "[('SHVR', 2), ('GVWY', 2), ('ZIC', 14), ('ZIP', 2)]\n",
      "n: 500\n",
      "Check each column if the data is normally distrubuted with the shapiro wilk test:\n",
      "Condition  GVWY. We can reject the null hypothesis (p=0.00). Therefore, data is not normally distributed.\n",
      "Condition  SHVR. We can reject the null hypothesis (p=0.00). Therefore, data is not normally distributed.\n",
      "Condition  ZIC. We cannot reject the null hypothesis (p=0.31). Therefore, data is normally distributed.\n",
      "Condition  ZIP. We can reject the null hypothesis (p=0.00). Therefore, data is not normally distributed.\n",
      "There are 4 distributions. Therefore using Kruskal-Wallis\n",
      "Reject null hypothesis. There is sufficient evidence to suggest groups have a population different mean\n",
      "-----------------------------------------------------------------------------------------------------\n",
      "[('SHVR', 2), ('GVWY', 14), ('ZIC', 2), ('ZIP', 2)]\n",
      "n: 500\n",
      "Check each column if the data is normally distrubuted with the shapiro wilk test:\n",
      "Condition  GVWY. We cannot reject the null hypothesis (p=0.49). Therefore, data is normally distributed.\n",
      "Condition  SHVR. We can reject the null hypothesis (p=0.00). Therefore, data is not normally distributed.\n",
      "Condition  ZIC. We can reject the null hypothesis (p=0.00). Therefore, data is not normally distributed.\n",
      "Condition  ZIP. We can reject the null hypothesis (p=0.00). Therefore, data is not normally distributed.\n",
      "There are 4 distributions. Therefore using Kruskal-Wallis\n",
      "Reject null hypothesis. There is sufficient evidence to suggest groups have a population different mean\n",
      "-----------------------------------------------------------------------------------------------------\n"
     ]
    }
   ],
   "source": [
    "part_c()"
   ],
   "metadata": {
    "collapsed": false,
    "ExecuteTime": {
     "end_time": "2023-11-22T02:03:58.769529600Z",
     "start_time": "2023-11-22T00:27:47.411436300Z"
    }
   }
  },
  {
   "cell_type": "markdown",
   "metadata": {},
   "source": [
    "END OF REPORT. ONLY WORD COUNT BELOW THIS POINT. "
   ]
  },
  {
   "cell_type": "code",
   "execution_count": 7,
   "metadata": {
    "ExecuteTime": {
     "end_time": "2023-11-21T05:06:18.596867200Z",
     "start_time": "2023-11-21T05:06:17.943911600Z"
    }
   },
   "outputs": [
    {
     "name": "stderr",
     "output_type": "stream",
     "text": [
      "C:\\Users\\izami\\AppData\\Local\\Temp\\ipykernel_39204\\2932030967.py:3: DeprecationWarning: nbformat.current is deprecated since before nbformat 3.0\n",
      "\n",
      "- use nbformat for read/write/validate public API\n",
      "- use nbformat.vX directly to composing notebooks of a particular version\n",
      "\n",
      "  from nbformat import current\n"
     ]
    }
   ],
   "source": [
    "# Do not edit this code. It will print the word count of your notebook.\n",
    "import io\n",
    "from nbformat import current\n",
    "\n",
    "def printWordCount(filepath):\n",
    "\n",
    "    with io.open(filepath, 'r', encoding='utf-8') as f:\n",
    "        nb = current.read(f, 'json')\n",
    "\n",
    "    word_count = 0\n",
    "    for cell in nb.worksheets[0].cells:\n",
    "        if cell.cell_type == \"markdown\":\n",
    "            word_count += len(cell['source'].replace('#', '').lstrip().split(' '))\n",
    "    print(\"Word count: \" + str(word_count) + \". Limit is 2000 words.\")"
   ]
  },
  {
   "cell_type": "code",
   "execution_count": 8,
   "metadata": {
    "ExecuteTime": {
     "end_time": "2023-11-21T05:06:18.801493600Z",
     "start_time": "2023-11-21T05:06:18.600441200Z"
    }
   },
   "outputs": [
    {
     "name": "stdout",
     "output_type": "stream",
     "text": [
      "Word count: 12. Limit is 2000 words.\n"
     ]
    }
   ],
   "source": [
    "# This should be the final output of your notebook.\n",
    "# Edit filename to be the same as this filename and then run.\n",
    "# Save your file before running this code.\n",
    "\n",
    "this_file_name = \"cw.ipynb\" # Enter name of this file here\n",
    "printWordCount(this_file_name)"
   ]
  },
  {
   "cell_type": "code",
   "execution_count": 8,
   "metadata": {
    "ExecuteTime": {
     "end_time": "2023-11-21T05:06:18.802495100Z",
     "start_time": "2023-11-21T05:06:18.792451600Z"
    }
   },
   "outputs": [],
   "source": []
  }
 ],
 "metadata": {
  "kernelspec": {
   "display_name": "Python 3 (ipykernel)",
   "language": "python",
   "name": "python3"
  },
  "language_info": {
   "codemirror_mode": {
    "name": "ipython",
    "version": 3
   },
   "file_extension": ".py",
   "mimetype": "text/x-python",
   "name": "python",
   "nbconvert_exporter": "python",
   "pygments_lexer": "ipython3",
   "version": "3.11.4"
  }
 },
 "nbformat": 4,
 "nbformat_minor": 2
}
