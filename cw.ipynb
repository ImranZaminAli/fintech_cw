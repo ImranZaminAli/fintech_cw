{
 "cells": [
  {
   "cell_type": "markdown",
   "metadata": {},
   "source": [
    "### COMSM0140: Internet Economics and Financial Technology 2023. Main coursework. "
   ]
  },
  {
   "cell_type": "markdown",
   "metadata": {},
   "source": [
    "### Imran Zamin Ali"
   ]
  },
  {
   "cell_type": "markdown",
   "metadata": {},
   "source": [
    "### Initial Setup"
   ]
  },
  {
   "cell_type": "code",
   "execution_count": null,
   "metadata": {
    "is_executing": true
   },
   "outputs": [],
   "source": [
    "import pandas as pd\n",
    "import os\n",
    "from scipy import stats\n",
    "import seaborn as sns\n",
    "import matplotlib.pyplot as plt\n",
    "import random\n",
    "import statsmodels\n",
    "from BSE import market_session\n",
    "\n",
    "\n",
    "# given a tuple of the algos, a tuple of the percentages for that trader and the number of traders return the specs\n",
    "def get_traders_specs(algos, percentages, num_traders):\n",
    "    if sum(percentages) != 100:\n",
    "        raise Exception('The percentages should add to 100')\n",
    "    if len(algos) != len(percentages):\n",
    "        raise Exception(f'algos len: {len(algos)} %s len: {len(percentages)} are not equal')\n",
    "    \n",
    "    num_traders_each = tuple(round(percent * num_traders / 100) for percent in percentages)\n",
    "    if sum(num_traders_each) != num_traders:\n",
    "        raise Exception('num traders each != num traders')\n",
    "    return list(zip(algos, num_traders_each))\n",
    "\n",
    "def run_stat_tests(profits):\n",
    "    print('Check each column if the data is normally distrubuted with the shapiro wilk test:')\n",
    "    is_normal = True\n",
    "    # check if the data is normally distributed\n",
    "    for col in profits.columns:\n",
    "        _, pvalue = stats.shapiro(profits[col])\n",
    "        if pvalue < 0.05:\n",
    "            print(f'Condition: {col}. Reject null hypothesis (p={pvalue}). There is enough evidence to suggest the data is not normally distributed')\n",
    "            is_normal = False\n",
    "        else:\n",
    "            print(f'Condition: {col}. Do not reject null hypothesis (p={pvalue}). There is not enough evidence to suggest the data is not normally distributed')\n",
    "            \n",
    "    columns = [profits[column] for column in profits.columns]\n",
    "    is_two_dist = len(columns) == 2\n",
    "    if is_two_dist:\n",
    "        fig, axes = plt.subplots(1,2)\n",
    "        sns.kdeplot(data=profits, fill=False, ax=axes[0])\n",
    "        sns.boxplot(data=profits, ax=axes[1])\n",
    "    else:\n",
    "        sns.violinplot(data=profits, inner='box')\n",
    "    pvalue = None\n",
    "    if is_normal:\n",
    "        test_name = 'paired t-test' if is_two_dist else 'ANOVA test'\n",
    "        _, pvalue = stats.ttest_rel(*columns) if is_two_dist else stats.f_oneway(*columns)\n",
    "    else:\n",
    "        test_name = 'Wilcoxon Signed Rank test' if is_two_dist else 'Friedman test'\n",
    "        _, pvalue = stats.wilcoxon(*columns) if is_two_dist else stats.friedmanchisquare(*columns)\n",
    "    \n",
    "    print(f'There are {len(columns)} distributions. Therefore using {test_name}')\n",
    "    if pvalue < 0.05:\n",
    "        print(f'Reject null hypothesis (p={pvalue}). There is sufficient evidence to suggest groups have a population different mean')\n",
    "    else:\n",
    "        print(f'Do not reject null hypothesis (p={pvalue}). There is not enough evidence to suggest the groups have a different population mean')\n",
    "            \n",
    "# run n instances of market session. Collect the final profits for each trader for each session and store in a numpy array. Apply the appropriate hypothesis test\n",
    "def run_experiment(n, market_args, initial_seed):\n",
    "    # create an empty dataframe\n",
    "    # traders = market_args[3]\n",
    "    # buyers = traders['buyers']\n",
    "    # sellers = traders['sellers']\n",
    "    # algo_names = list({algo for (algo, _) in buyers+sellers})\n",
    "    # profits = pd.DataFrame(columns=algo_names)\n",
    "    profits = pd.DataFrame()\n",
    "    \n",
    "    print(f'n: {n}')\n",
    "    for i in range(n):\n",
    "        random.seed(initial_seed + i)\n",
    "        market_session(*market_args)\n",
    "        trial_id = market_args[0]\n",
    "        filename = f'{trial_id}_avg_balance.csv'\n",
    "        file = open(filename, 'r')\n",
    "        final_entry = (file.readlines()[-1]).split(',')\n",
    "        #print(len(final_entry))\n",
    "        #print(final_entry)\n",
    "        file.close()\n",
    "        os.remove(filename)\n",
    "        profit_entry = {}\n",
    "        for j in range(4, len(final_entry)-4, 4):\n",
    "            col_name = final_entry[j]\n",
    "            #print(col_name)\n",
    "            col_val = final_entry[j+3]\n",
    "            #print(col_val)\n",
    "            profit_entry[col_name] = round(float(col_val.strip()))\n",
    "            \n",
    "        #print(profit_entry)\n",
    "        entry_df = pd.DataFrame([profit_entry])\n",
    "        #profits = profits.append(profit_entry, ignore_index=True)\n",
    "        profits = pd.concat([profits, entry_df], ignore_index=True)\n",
    "    \n",
    "    run_stat_tests(profits)\n",
    "            \n",
    "    "
   ]
  },
  {
   "cell_type": "markdown",
   "metadata": {},
   "source": [
    "### Part A"
   ]
  },
  {
   "cell_type": "code",
   "execution_count": 31,
   "metadata": {
    "ExecuteTime": {
     "end_time": "2023-11-26T22:15:38.512545300Z",
     "start_time": "2023-11-26T22:15:38.481551500Z"
    }
   },
   "outputs": [],
   "source": [
    "sup_range = (310, 310)\n",
    "dem_range = (250, 490)\n",
    "num_buyers = 20\n",
    "num_sellers = 20\n",
    "r = 50\n",
    "r_vals = (r, 100 - r)\n",
    "algos = ('SHVR', 'ZIC')\n",
    "seller_specs = get_traders_specs(algos=algos, percentages=r_vals, num_traders=num_sellers)\n",
    "buyer_specs = get_traders_specs(algos=algos, percentages=r_vals, num_traders=num_buyers)\n",
    "traders_specs = {'sellers': seller_specs, 'buyers': buyer_specs}\n",
    "\n",
    "#plot_sup_dem(num_buyers, [sup_range], num_sellers, [dem_range], 'fixed')\n",
    "\n"
   ]
  },
  {
   "cell_type": "code",
   "execution_count": 33,
   "outputs": [],
   "source": [
    "start_time = 0\n",
    "end_time = 5 * 60 * 60\n",
    "supply_schedule = [{'from': start_time, 'to': end_time, 'ranges': [sup_range], 'stepmode': 'fixed'}]\n",
    "demand_schedule = [{'from': start_time, 'to': end_time, 'ranges': [dem_range], 'stepmode': 'fixed'}]\n",
    "order_interval = 10\n",
    "order_sched = {'sup': supply_schedule, 'dem': demand_schedule,\n",
    "              'interval': order_interval, 'timemode': 'periodic'}\n",
    "verbose = False\n",
    "dump_flags = {'dump_blotters': True, 'dump_lobs': False, 'dump_strats': False,\n",
    "              'dump_avgbals': True, 'dump_tape': False}"
   ],
   "metadata": {
    "collapsed": false,
    "ExecuteTime": {
     "end_time": "2023-11-26T22:16:05.652886200Z",
     "start_time": "2023-11-26T22:16:05.621865Z"
    }
   }
  },
  {
   "cell_type": "code",
   "execution_count": 34,
   "outputs": [
    {
     "name": "stdout",
     "output_type": "stream",
     "text": [
      "n: 1\n"
     ]
    },
    {
     "ename": "PermissionError",
     "evalue": "[WinError 32] The process cannot access the file because it is being used by another process: 'smith_chart_avg_balance.csv'",
     "output_type": "error",
     "traceback": [
      "\u001B[1;31m---------------------------------------------------------------------------\u001B[0m",
      "\u001B[1;31mPermissionError\u001B[0m                           Traceback (most recent call last)",
      "Cell \u001B[1;32mIn[34], line 7\u001B[0m\n\u001B[0;32m      5\u001B[0m trial_id \u001B[38;5;241m=\u001B[39m \u001B[38;5;124m'\u001B[39m\u001B[38;5;124msmith_chart\u001B[39m\u001B[38;5;124m'\u001B[39m\n\u001B[0;32m      6\u001B[0m initial_seed \u001B[38;5;241m=\u001B[39m \u001B[38;5;241m100\u001B[39m\n\u001B[1;32m----> 7\u001B[0m run_experiment(\u001B[38;5;241m1\u001B[39m, (trial_id, start_time, end_time, traders_specs, order_sched, dump_flags, verbose), initial_seed)\n",
      "Cell \u001B[1;32mIn[27], line 78\u001B[0m, in \u001B[0;36mrun_experiment\u001B[1;34m(n, market_args, initial_seed)\u001B[0m\n\u001B[0;32m     75\u001B[0m \u001B[38;5;66;03m#print(len(final_entry))\u001B[39;00m\n\u001B[0;32m     76\u001B[0m \u001B[38;5;66;03m#print(final_entry)\u001B[39;00m\n\u001B[0;32m     77\u001B[0m file\u001B[38;5;241m.\u001B[39mclose()\n\u001B[1;32m---> 78\u001B[0m os\u001B[38;5;241m.\u001B[39mremove(filename)\n\u001B[0;32m     79\u001B[0m profit_entry \u001B[38;5;241m=\u001B[39m {}\n\u001B[0;32m     80\u001B[0m \u001B[38;5;28;01mfor\u001B[39;00m j \u001B[38;5;129;01min\u001B[39;00m \u001B[38;5;28mrange\u001B[39m(\u001B[38;5;241m4\u001B[39m, \u001B[38;5;28mlen\u001B[39m(final_entry)\u001B[38;5;241m-\u001B[39m\u001B[38;5;241m4\u001B[39m, \u001B[38;5;241m4\u001B[39m):\n",
      "\u001B[1;31mPermissionError\u001B[0m: [WinError 32] The process cannot access the file because it is being used by another process: 'smith_chart_avg_balance.csv'"
     ]
    }
   ],
   "source": [
    "# for i in tqdm(range(n)):\n",
    "#     random.seed(100) # changing the seed value will give us different seqences of random numbers\n",
    "#     trial_id = 'smith_chart_'\n",
    "#     market_session(trial_id, start_time, end_time, traders_specs, order_sched, dump_flags, verbose)\n",
    "trial_id = 'smith_chart'\n",
    "initial_seed = 100\n",
    "run_experiment(1, (trial_id, start_time, end_time, traders_specs, order_sched, dump_flags, verbose), initial_seed)\n",
    "\n",
    "# TODO create a for loop that runs to n. Changes the seed each time as well as the trial id. Dumps the avgbals. Take the total profits for each trader type from the last line of the csv file and puts it into a dataframe\n",
    "\n",
    "# "
   ],
   "metadata": {
    "collapsed": false,
    "ExecuteTime": {
     "end_time": "2023-11-26T22:16:24.027549700Z",
     "start_time": "2023-11-26T22:16:10.708090600Z"
    }
   }
  },
  {
   "cell_type": "code",
   "execution_count": 20,
   "outputs": [
    {
     "name": "stdout",
     "output_type": "stream",
     "text": [
      "n: 500\n",
      "Check each column if the data is normally distrubuted with the shapiro wilk test:\n",
      "Condition:  SHVR. Do not reject null hypothesis (p=0.38939961791038513). There is not enough evidence to suggest the data is not normally distributed\n",
      "Condition:  ZIC. Do not reject null hypothesis (p=0.256633996963501). There is not enough evidence to suggest the data is not normally distributed\n",
      "There are 2 distributions. Therefore using paired t-test\n",
      "Do not reject null hypothesis (p=0.3170595362639759). There is not enough evidence to suggest the groups have a different population mean\n"
     ]
    },
    {
     "data": {
      "text/plain": "<Figure size 640x480 with 1 Axes>",
      "image/png": "[encoded data removed]"
     },
     "metadata": {},
     "output_type": "display_data"
    }
   ],
   "source": [
    "run_experiment(500, (trial_id, start_time, end_time, traders_specs, order_sched, dump_flags, verbose), initial_seed)"
   ],
   "metadata": {
    "collapsed": false,
    "ExecuteTime": {
     "end_time": "2023-11-26T21:35:00.577889900Z",
     "start_time": "2023-11-26T21:14:13.647724400Z"
    }
   }
  },
  {
   "cell_type": "markdown",
   "source": [
    "### Part B"
   ],
   "metadata": {
    "collapsed": false
   }
  },
  {
   "cell_type": "code",
   "execution_count": 6,
   "outputs": [
    {
     "name": "stderr",
     "output_type": "stream",
     "text": [
      "  0%|          | 0/9 [00:00<?, ?it/s]"
     ]
    },
    {
     "name": "stdout",
     "output_type": "stream",
     "text": [
      "R: 10\n",
      "n: 50\n"
     ]
    },
    {
     "name": "stderr",
     "output_type": "stream",
     "text": [
      " 11%|█         | 1/9 [00:30<04:02, 30.27s/it]"
     ]
    },
    {
     "name": "stdout",
     "output_type": "stream",
     "text": [
      "Check each column if the data is normally distrubuted with the shapiro wilk test:\n",
      "Condition  SHVR. We can reject the null hypothesis (p=0.03). Therefore, data is not normally distributed.\n",
      "Condition  ZIC. We can reject the null hypothesis (p=0.03). Therefore, data is not normally distributed.\n",
      "There are 2 distributions. Therefore using Mann-Whitney\n",
      "Reject null hypothesis. There is sufficient evidence to suggest groups have a population different mean\n",
      "R: 20\n",
      "n: 50\n"
     ]
    },
    {
     "name": "stderr",
     "output_type": "stream",
     "text": [
      " 22%|██▏       | 2/9 [01:00<03:30, 30.14s/it]"
     ]
    },
    {
     "name": "stdout",
     "output_type": "stream",
     "text": [
      "Check each column if the data is normally distrubuted with the shapiro wilk test:\n",
      "Condition  SHVR. We cannot reject the null hypothesis (p=0.39). Therefore, data is normally distributed.\n",
      "Condition  ZIC. We cannot reject the null hypothesis (p=0.54). Therefore, data is normally distributed.\n",
      "There are 2 distributions. Therefore using t-test\n",
      "Reject null hypothesis. There is sufficient evidence to suggest groups have a population different mean\n",
      "R: 30\n",
      "n: 50\n"
     ]
    },
    {
     "name": "stderr",
     "output_type": "stream",
     "text": [
      " 33%|███▎      | 3/9 [01:30<03:01, 30.21s/it]"
     ]
    },
    {
     "name": "stdout",
     "output_type": "stream",
     "text": [
      "Check each column if the data is normally distrubuted with the shapiro wilk test:\n",
      "Condition  SHVR. We cannot reject the null hypothesis (p=0.75). Therefore, data is normally distributed.\n",
      "Condition  ZIC. We cannot reject the null hypothesis (p=0.68). Therefore, data is normally distributed.\n",
      "There are 2 distributions. Therefore using t-test\n",
      "Reject null hypothesis. There is sufficient evidence to suggest groups have a population different mean\n",
      "R: 40\n",
      "n: 50\n"
     ]
    },
    {
     "name": "stderr",
     "output_type": "stream",
     "text": [
      " 44%|████▍     | 4/9 [02:01<02:32, 30.51s/it]"
     ]
    },
    {
     "name": "stdout",
     "output_type": "stream",
     "text": [
      "Check each column if the data is normally distrubuted with the shapiro wilk test:\n",
      "Condition  SHVR. We cannot reject the null hypothesis (p=0.15). Therefore, data is normally distributed.\n",
      "Condition  ZIC. We cannot reject the null hypothesis (p=0.52). Therefore, data is normally distributed.\n",
      "There are 2 distributions. Therefore using t-test\n",
      "Reject null hypothesis. There is sufficient evidence to suggest groups have a population different mean\n",
      "R: 50\n",
      "n: 50\n"
     ]
    },
    {
     "name": "stderr",
     "output_type": "stream",
     "text": [
      " 56%|█████▌    | 5/9 [02:31<02:01, 30.46s/it]"
     ]
    },
    {
     "name": "stdout",
     "output_type": "stream",
     "text": [
      "Check each column if the data is normally distrubuted with the shapiro wilk test:\n",
      "Condition  SHVR. We cannot reject the null hypothesis (p=0.69). Therefore, data is normally distributed.\n",
      "Condition  ZIC. We cannot reject the null hypothesis (p=0.52). Therefore, data is normally distributed.\n",
      "There are 2 distributions. Therefore using t-test\n",
      "Do not reject null hypotheiss. There is not enough evidence to suggest the groups have a different population mean\n",
      "R: 60\n",
      "n: 50\n"
     ]
    },
    {
     "name": "stderr",
     "output_type": "stream",
     "text": [
      " 67%|██████▋   | 6/9 [03:01<01:30, 30.14s/it]"
     ]
    },
    {
     "name": "stdout",
     "output_type": "stream",
     "text": [
      "Check each column if the data is normally distrubuted with the shapiro wilk test:\n",
      "Condition  SHVR. We cannot reject the null hypothesis (p=0.26). Therefore, data is normally distributed.\n",
      "Condition  ZIC. We cannot reject the null hypothesis (p=0.22). Therefore, data is normally distributed.\n",
      "There are 2 distributions. Therefore using t-test\n",
      "Reject null hypothesis. There is sufficient evidence to suggest groups have a population different mean\n",
      "R: 70\n",
      "n: 50\n"
     ]
    },
    {
     "name": "stderr",
     "output_type": "stream",
     "text": [
      " 78%|███████▊  | 7/9 [03:30<00:59, 29.86s/it]"
     ]
    },
    {
     "name": "stdout",
     "output_type": "stream",
     "text": [
      "Check each column if the data is normally distrubuted with the shapiro wilk test:\n",
      "Condition  SHVR. We cannot reject the null hypothesis (p=0.19). Therefore, data is normally distributed.\n",
      "Condition  ZIC. We cannot reject the null hypothesis (p=0.30). Therefore, data is normally distributed.\n",
      "There are 2 distributions. Therefore using t-test\n",
      "Reject null hypothesis. There is sufficient evidence to suggest groups have a population different mean\n",
      "R: 80\n",
      "n: 50\n"
     ]
    },
    {
     "name": "stderr",
     "output_type": "stream",
     "text": [
      " 89%|████████▉ | 8/9 [04:01<00:29, 29.98s/it]"
     ]
    },
    {
     "name": "stdout",
     "output_type": "stream",
     "text": [
      "Check each column if the data is normally distrubuted with the shapiro wilk test:\n",
      "Condition  SHVR. We cannot reject the null hypothesis (p=0.45). Therefore, data is normally distributed.\n",
      "Condition  ZIC. We cannot reject the null hypothesis (p=0.62). Therefore, data is normally distributed.\n",
      "There are 2 distributions. Therefore using t-test\n",
      "Reject null hypothesis. There is sufficient evidence to suggest groups have a population different mean\n",
      "R: 90\n",
      "n: 50\n"
     ]
    },
    {
     "name": "stderr",
     "output_type": "stream",
     "text": [
      "100%|██████████| 9/9 [04:32<00:00, 30.33s/it]\n"
     ]
    },
    {
     "name": "stdout",
     "output_type": "stream",
     "text": [
      "Check each column if the data is normally distrubuted with the shapiro wilk test:\n",
      "Condition  SHVR. We cannot reject the null hypothesis (p=0.34). Therefore, data is normally distributed.\n",
      "Condition  ZIC. We cannot reject the null hypothesis (p=0.12). Therefore, data is normally distributed.\n",
      "There are 2 distributions. Therefore using t-test\n",
      "Reject null hypothesis. There is sufficient evidence to suggest groups have a population different mean\n",
      "-----------------------------------------------------------------------------------------------------\n"
     ]
    },
    {
     "name": "stderr",
     "output_type": "stream",
     "text": [
      "  0%|          | 0/9 [00:00<?, ?it/s]"
     ]
    },
    {
     "name": "stdout",
     "output_type": "stream",
     "text": [
      "R: 10\n",
      "n: 500\n"
     ]
    },
    {
     "name": "stderr",
     "output_type": "stream",
     "text": [
      " 11%|█         | 1/9 [04:52<38:59, 292.43s/it]"
     ]
    },
    {
     "name": "stdout",
     "output_type": "stream",
     "text": [
      "Check each column if the data is normally distrubuted with the shapiro wilk test:\n",
      "Condition  SHVR. We can reject the null hypothesis (p=0.00). Therefore, data is not normally distributed.\n",
      "Condition  ZIC. We can reject the null hypothesis (p=0.00). Therefore, data is not normally distributed.\n",
      "There are 2 distributions. Therefore using Mann-Whitney\n",
      "Reject null hypothesis. There is sufficient evidence to suggest groups have a population different mean\n",
      "R: 20\n",
      "n: 500\n"
     ]
    },
    {
     "name": "stderr",
     "output_type": "stream",
     "text": [
      " 22%|██▏       | 2/9 [09:49<34:25, 295.11s/it]"
     ]
    },
    {
     "name": "stdout",
     "output_type": "stream",
     "text": [
      "Check each column if the data is normally distrubuted with the shapiro wilk test:\n",
      "Condition  SHVR. We can reject the null hypothesis (p=0.00). Therefore, data is not normally distributed.\n",
      "Condition  ZIC. We can reject the null hypothesis (p=0.00). Therefore, data is not normally distributed.\n",
      "There are 2 distributions. Therefore using Mann-Whitney\n",
      "Reject null hypothesis. There is sufficient evidence to suggest groups have a population different mean\n",
      "R: 30\n",
      "n: 500\n"
     ]
    },
    {
     "name": "stderr",
     "output_type": "stream",
     "text": [
      " 33%|███▎      | 3/9 [14:50<29:46, 297.80s/it]"
     ]
    },
    {
     "name": "stdout",
     "output_type": "stream",
     "text": [
      "Check each column if the data is normally distrubuted with the shapiro wilk test:\n",
      "Condition  SHVR. We cannot reject the null hypothesis (p=0.30). Therefore, data is normally distributed.\n",
      "Condition  ZIC. We cannot reject the null hypothesis (p=0.30). Therefore, data is normally distributed.\n",
      "There are 2 distributions. Therefore using t-test\n",
      "Reject null hypothesis. There is sufficient evidence to suggest groups have a population different mean\n",
      "R: 40\n",
      "n: 500\n"
     ]
    },
    {
     "name": "stderr",
     "output_type": "stream",
     "text": [
      " 44%|████▍     | 4/9 [19:48<24:49, 297.90s/it]"
     ]
    },
    {
     "name": "stdout",
     "output_type": "stream",
     "text": [
      "Check each column if the data is normally distrubuted with the shapiro wilk test:\n",
      "Condition  SHVR. We cannot reject the null hypothesis (p=0.12). Therefore, data is normally distributed.\n",
      "Condition  ZIC. We cannot reject the null hypothesis (p=0.29). Therefore, data is normally distributed.\n",
      "There are 2 distributions. Therefore using t-test\n",
      "Reject null hypothesis. There is sufficient evidence to suggest groups have a population different mean\n",
      "R: 50\n",
      "n: 500\n"
     ]
    },
    {
     "name": "stderr",
     "output_type": "stream",
     "text": [
      " 56%|█████▌    | 5/9 [24:52<20:01, 300.26s/it]"
     ]
    },
    {
     "name": "stdout",
     "output_type": "stream",
     "text": [
      "Check each column if the data is normally distrubuted with the shapiro wilk test:\n",
      "Condition  SHVR. We cannot reject the null hypothesis (p=0.41). Therefore, data is normally distributed.\n",
      "Condition  ZIC. We cannot reject the null hypothesis (p=0.28). Therefore, data is normally distributed.\n",
      "There are 2 distributions. Therefore using t-test\n",
      "Do not reject null hypotheiss. There is not enough evidence to suggest the groups have a different population mean\n",
      "R: 60\n",
      "n: 500\n"
     ]
    },
    {
     "name": "stderr",
     "output_type": "stream",
     "text": [
      " 67%|██████▋   | 6/9 [29:53<15:01, 300.47s/it]"
     ]
    },
    {
     "name": "stdout",
     "output_type": "stream",
     "text": [
      "Check each column if the data is normally distrubuted with the shapiro wilk test:\n",
      "Condition  SHVR. We cannot reject the null hypothesis (p=0.29). Therefore, data is normally distributed.\n",
      "Condition  ZIC. We cannot reject the null hypothesis (p=0.30). Therefore, data is normally distributed.\n",
      "There are 2 distributions. Therefore using t-test\n",
      "Reject null hypothesis. There is sufficient evidence to suggest groups have a population different mean\n",
      "R: 70\n",
      "n: 500\n"
     ]
    },
    {
     "name": "stderr",
     "output_type": "stream",
     "text": [
      " 78%|███████▊  | 7/9 [35:01<10:05, 302.77s/it]"
     ]
    },
    {
     "name": "stdout",
     "output_type": "stream",
     "text": [
      "Check each column if the data is normally distrubuted with the shapiro wilk test:\n",
      "Condition  SHVR. We cannot reject the null hypothesis (p=0.51). Therefore, data is normally distributed.\n",
      "Condition  ZIC. We cannot reject the null hypothesis (p=0.43). Therefore, data is normally distributed.\n",
      "There are 2 distributions. Therefore using t-test\n",
      "Reject null hypothesis. There is sufficient evidence to suggest groups have a population different mean\n",
      "R: 80\n",
      "n: 500\n"
     ]
    },
    {
     "name": "stderr",
     "output_type": "stream",
     "text": [
      " 89%|████████▉ | 8/9 [40:11<05:05, 305.18s/it]"
     ]
    },
    {
     "name": "stdout",
     "output_type": "stream",
     "text": [
      "Check each column if the data is normally distrubuted with the shapiro wilk test:\n",
      "Condition  SHVR. We cannot reject the null hypothesis (p=0.20). Therefore, data is normally distributed.\n",
      "Condition  ZIC. We cannot reject the null hypothesis (p=0.27). Therefore, data is normally distributed.\n",
      "There are 2 distributions. Therefore using t-test\n",
      "Reject null hypothesis. There is sufficient evidence to suggest groups have a population different mean\n",
      "R: 90\n",
      "n: 500\n"
     ]
    },
    {
     "name": "stderr",
     "output_type": "stream",
     "text": [
      "100%|██████████| 9/9 [46:06<00:00, 307.44s/it]"
     ]
    },
    {
     "name": "stdout",
     "output_type": "stream",
     "text": [
      "Check each column if the data is normally distrubuted with the shapiro wilk test:\n",
      "Condition  SHVR. We can reject the null hypothesis (p=0.00). Therefore, data is not normally distributed.\n",
      "Condition  ZIC. We can reject the null hypothesis (p=0.00). Therefore, data is not normally distributed.\n",
      "There are 2 distributions. Therefore using Mann-Whitney\n",
      "Reject null hypothesis. There is sufficient evidence to suggest groups have a population different mean\n",
      "-----------------------------------------------------------------------------------------------------\n"
     ]
    },
    {
     "name": "stderr",
     "output_type": "stream",
     "text": [
      "\n"
     ]
    }
   ],
   "source": [
    "def part_b():\n",
    "    n_values = [50, 500]\n",
    "    for n in n_values:\n",
    "        r_list = list(range(10, 91, 10))\n",
    "        for r in r_list:\n",
    "            r_vals = (r, 100-r)\n",
    "            seller_specs = get_traders_specs(algos=algos, percentages=r_vals, num_traders=num_sellers)\n",
    "            buyer_specs = get_traders_specs(algos=algos, percentages=r_vals, num_traders=num_buyers)\n",
    "            traders_specs = {'sellers': seller_specs, 'buyers': buyer_specs}\n",
    "            print(f'R: {r}')\n",
    "            run_experiment(n, (trial_id, start_time, end_time, traders_specs, order_sched, dump_flags, verbose), initial_seed)\n",
    "        \n",
    "            print('-----------------------------------------------------------------------------------------------------')\n",
    "\n",
    "part_b()"
   ],
   "metadata": {
    "collapsed": false,
    "ExecuteTime": {
     "end_time": "2023-11-21T05:06:17.945912600Z",
     "start_time": "2023-11-21T04:15:37.989814500Z"
    }
   }
  },
  {
   "cell_type": "markdown",
   "source": [
    "### Part C"
   ],
   "metadata": {
    "collapsed": false
   }
  },
  {
   "cell_type": "code",
   "execution_count": 16,
   "outputs": [],
   "source": [
    "def part_c():\n",
    "    algos = ('SHVR', 'GVWY', 'ZIC', 'ZIP')\n",
    "    ratios_list = [[25, 25, 25, 25], [40,20,20,20], [10,30,30,30], [70,10,10,10]]\n",
    "    n_vals = [50, 500]\n",
    "    for n in n_vals:\n",
    "        for i in range(len(ratios_list)):\n",
    "            for j in range(len(ratios_list[i])):\n",
    "                seller_specs = get_traders_specs(algos=algos, percentages=tuple(ratios_list[i]), num_traders=num_sellers)\n",
    "                buyer_specs = get_traders_specs(algos=algos, percentages=tuple(ratios_list[i]), num_traders=num_sellers)\n",
    "                traders_specs = {'sellers': seller_specs, 'buyers': buyer_specs}\n",
    "                order_sched = {'sup': supply_schedule, 'dem': demand_schedule, 'interval': order_interval, 'timemode': 'periodic'}\n",
    "                print(seller_specs)\n",
    "                run_experiment(n, (trial_id, start_time, end_time, traders_specs, order_sched, dump_flags, verbose), initial_seed)\n",
    "                print('-----------------------------------------------------------------------------------------------------')\n",
    "                if len(set(ratios_list[i])) == 1: # no need to permute if all elements are equal\n",
    "                    break\n",
    "                ratios_list[i].append(ratios_list[i].pop(0)) # rotates by 1  "
   ],
   "metadata": {
    "collapsed": false,
    "ExecuteTime": {
     "end_time": "2023-11-22T00:27:46.595513Z",
     "start_time": "2023-11-22T00:27:46.503487800Z"
    }
   }
  },
  {
   "cell_type": "code",
   "execution_count": 17,
   "outputs": [
    {
     "name": "stdout",
     "output_type": "stream",
     "text": [
      "[('SHVR', 5), ('GVWY', 5), ('ZIC', 5), ('ZIP', 5)]\n",
      "n: 50\n",
      "Check each column if the data is normally distrubuted with the shapiro wilk test:\n",
      "Condition  GVWY. We cannot reject the null hypothesis (p=0.52). Therefore, data is normally distributed.\n",
      "Condition  SHVR. We can reject the null hypothesis (p=0.01). Therefore, data is not normally distributed.\n",
      "Condition  ZIC. We cannot reject the null hypothesis (p=0.48). Therefore, data is normally distributed.\n",
      "Condition  ZIP. We cannot reject the null hypothesis (p=0.18). Therefore, data is normally distributed.\n",
      "There are 4 distributions. Therefore using Kruskal-Wallis\n",
      "Reject null hypothesis. There is sufficient evidence to suggest groups have a population different mean\n",
      "-----------------------------------------------------------------------------------------------------\n",
      "[('SHVR', 8), ('GVWY', 4), ('ZIC', 4), ('ZIP', 4)]\n",
      "n: 50\n",
      "Check each column if the data is normally distrubuted with the shapiro wilk test:\n",
      "Condition  GVWY. We cannot reject the null hypothesis (p=0.57). Therefore, data is normally distributed.\n",
      "Condition  SHVR. We cannot reject the null hypothesis (p=0.76). Therefore, data is normally distributed.\n",
      "Condition  ZIC. We cannot reject the null hypothesis (p=0.70). Therefore, data is normally distributed.\n",
      "Condition  ZIP. We cannot reject the null hypothesis (p=0.43). Therefore, data is normally distributed.\n",
      "There are 4 distributions. Therefore using ANOVA\n",
      "Reject null hypothesis. There is sufficient evidence to suggest groups have a population different mean\n",
      "-----------------------------------------------------------------------------------------------------\n",
      "[('SHVR', 4), ('GVWY', 4), ('ZIC', 4), ('ZIP', 8)]\n",
      "n: 50\n",
      "Check each column if the data is normally distrubuted with the shapiro wilk test:\n",
      "Condition  GVWY. We cannot reject the null hypothesis (p=0.36). Therefore, data is normally distributed.\n",
      "Condition  SHVR. We cannot reject the null hypothesis (p=0.81). Therefore, data is normally distributed.\n",
      "Condition  ZIC. We cannot reject the null hypothesis (p=0.74). Therefore, data is normally distributed.\n",
      "Condition  ZIP. We cannot reject the null hypothesis (p=0.38). Therefore, data is normally distributed.\n",
      "There are 4 distributions. Therefore using ANOVA\n",
      "Reject null hypothesis. There is sufficient evidence to suggest groups have a population different mean\n",
      "-----------------------------------------------------------------------------------------------------\n",
      "[('SHVR', 4), ('GVWY', 4), ('ZIC', 8), ('ZIP', 4)]\n",
      "n: 50\n",
      "Check each column if the data is normally distrubuted with the shapiro wilk test:\n",
      "Condition  GVWY. We cannot reject the null hypothesis (p=0.49). Therefore, data is normally distributed.\n",
      "Condition  SHVR. We cannot reject the null hypothesis (p=0.34). Therefore, data is normally distributed.\n",
      "Condition  ZIC. We cannot reject the null hypothesis (p=0.56). Therefore, data is normally distributed.\n",
      "Condition  ZIP. We cannot reject the null hypothesis (p=0.68). Therefore, data is normally distributed.\n",
      "There are 4 distributions. Therefore using ANOVA\n",
      "Reject null hypothesis. There is sufficient evidence to suggest groups have a population different mean\n",
      "-----------------------------------------------------------------------------------------------------\n",
      "[('SHVR', 4), ('GVWY', 8), ('ZIC', 4), ('ZIP', 4)]\n",
      "n: 50\n",
      "Check each column if the data is normally distrubuted with the shapiro wilk test:\n",
      "Condition  GVWY. We cannot reject the null hypothesis (p=0.21). Therefore, data is normally distributed.\n",
      "Condition  SHVR. We cannot reject the null hypothesis (p=0.44). Therefore, data is normally distributed.\n",
      "Condition  ZIC. We cannot reject the null hypothesis (p=0.92). Therefore, data is normally distributed.\n",
      "Condition  ZIP. We cannot reject the null hypothesis (p=0.85). Therefore, data is normally distributed.\n",
      "There are 4 distributions. Therefore using ANOVA\n",
      "Reject null hypothesis. There is sufficient evidence to suggest groups have a population different mean\n",
      "-----------------------------------------------------------------------------------------------------\n",
      "[('SHVR', 2), ('GVWY', 6), ('ZIC', 6), ('ZIP', 6)]\n",
      "n: 50\n",
      "Check each column if the data is normally distrubuted with the shapiro wilk test:\n",
      "Condition  GVWY. We cannot reject the null hypothesis (p=0.28). Therefore, data is normally distributed.\n",
      "Condition  SHVR. We cannot reject the null hypothesis (p=0.26). Therefore, data is normally distributed.\n",
      "Condition  ZIC. We cannot reject the null hypothesis (p=0.07). Therefore, data is normally distributed.\n",
      "Condition  ZIP. We cannot reject the null hypothesis (p=0.64). Therefore, data is normally distributed.\n",
      "There are 4 distributions. Therefore using ANOVA\n",
      "Reject null hypothesis. There is sufficient evidence to suggest groups have a population different mean\n",
      "-----------------------------------------------------------------------------------------------------\n",
      "[('SHVR', 6), ('GVWY', 6), ('ZIC', 6), ('ZIP', 2)]\n",
      "n: 50\n",
      "Check each column if the data is normally distrubuted with the shapiro wilk test:\n",
      "Condition  GVWY. We cannot reject the null hypothesis (p=0.35). Therefore, data is normally distributed.\n",
      "Condition  SHVR. We cannot reject the null hypothesis (p=0.31). Therefore, data is normally distributed.\n",
      "Condition  ZIC. We cannot reject the null hypothesis (p=0.05). Therefore, data is normally distributed.\n",
      "Condition  ZIP. We cannot reject the null hypothesis (p=0.07). Therefore, data is normally distributed.\n",
      "There are 4 distributions. Therefore using ANOVA\n",
      "Reject null hypothesis. There is sufficient evidence to suggest groups have a population different mean\n",
      "-----------------------------------------------------------------------------------------------------\n",
      "[('SHVR', 6), ('GVWY', 6), ('ZIC', 2), ('ZIP', 6)]\n",
      "n: 50\n",
      "Check each column if the data is normally distrubuted with the shapiro wilk test:\n",
      "Condition  GVWY. We cannot reject the null hypothesis (p=0.80). Therefore, data is normally distributed.\n",
      "Condition  SHVR. We cannot reject the null hypothesis (p=0.91). Therefore, data is normally distributed.\n",
      "Condition  ZIC. We cannot reject the null hypothesis (p=0.27). Therefore, data is normally distributed.\n",
      "Condition  ZIP. We cannot reject the null hypothesis (p=0.11). Therefore, data is normally distributed.\n",
      "There are 4 distributions. Therefore using ANOVA\n",
      "Reject null hypothesis. There is sufficient evidence to suggest groups have a population different mean\n",
      "-----------------------------------------------------------------------------------------------------\n",
      "[('SHVR', 6), ('GVWY', 2), ('ZIC', 6), ('ZIP', 6)]\n",
      "n: 50\n",
      "Check each column if the data is normally distrubuted with the shapiro wilk test:\n",
      "Condition  GVWY. We cannot reject the null hypothesis (p=0.18). Therefore, data is normally distributed.\n",
      "Condition  SHVR. We cannot reject the null hypothesis (p=0.70). Therefore, data is normally distributed.\n",
      "Condition  ZIC. We cannot reject the null hypothesis (p=0.05). Therefore, data is normally distributed.\n",
      "Condition  ZIP. We cannot reject the null hypothesis (p=0.08). Therefore, data is normally distributed.\n",
      "There are 4 distributions. Therefore using ANOVA\n",
      "Reject null hypothesis. There is sufficient evidence to suggest groups have a population different mean\n",
      "-----------------------------------------------------------------------------------------------------\n",
      "[('SHVR', 14), ('GVWY', 2), ('ZIC', 2), ('ZIP', 2)]\n",
      "n: 50\n",
      "Check each column if the data is normally distrubuted with the shapiro wilk test:\n",
      "Condition  GVWY. We can reject the null hypothesis (p=0.03). Therefore, data is not normally distributed.\n",
      "Condition  SHVR. We cannot reject the null hypothesis (p=0.51). Therefore, data is normally distributed.\n",
      "Condition  ZIC. We cannot reject the null hypothesis (p=0.61). Therefore, data is normally distributed.\n",
      "Condition  ZIP. We cannot reject the null hypothesis (p=0.38). Therefore, data is normally distributed.\n",
      "There are 4 distributions. Therefore using Kruskal-Wallis\n",
      "Reject null hypothesis. There is sufficient evidence to suggest groups have a population different mean\n",
      "-----------------------------------------------------------------------------------------------------\n",
      "[('SHVR', 2), ('GVWY', 2), ('ZIC', 2), ('ZIP', 14)]\n",
      "n: 50\n",
      "Check each column if the data is normally distrubuted with the shapiro wilk test:\n",
      "Condition  GVWY. We cannot reject the null hypothesis (p=0.54). Therefore, data is normally distributed.\n",
      "Condition  SHVR. We can reject the null hypothesis (p=0.05). Therefore, data is not normally distributed.\n",
      "Condition  ZIC. We can reject the null hypothesis (p=0.02). Therefore, data is not normally distributed.\n",
      "Condition  ZIP. We can reject the null hypothesis (p=0.01). Therefore, data is not normally distributed.\n",
      "There are 4 distributions. Therefore using Kruskal-Wallis\n",
      "Reject null hypothesis. There is sufficient evidence to suggest groups have a population different mean\n",
      "-----------------------------------------------------------------------------------------------------\n",
      "[('SHVR', 2), ('GVWY', 2), ('ZIC', 14), ('ZIP', 2)]\n",
      "n: 50\n",
      "Check each column if the data is normally distrubuted with the shapiro wilk test:\n",
      "Condition  GVWY. We cannot reject the null hypothesis (p=0.13). Therefore, data is normally distributed.\n",
      "Condition  SHVR. We cannot reject the null hypothesis (p=0.09). Therefore, data is normally distributed.\n",
      "Condition  ZIC. We cannot reject the null hypothesis (p=0.07). Therefore, data is normally distributed.\n",
      "Condition  ZIP. We cannot reject the null hypothesis (p=0.27). Therefore, data is normally distributed.\n",
      "There are 4 distributions. Therefore using ANOVA\n",
      "Reject null hypothesis. There is sufficient evidence to suggest groups have a population different mean\n",
      "-----------------------------------------------------------------------------------------------------\n",
      "[('SHVR', 2), ('GVWY', 14), ('ZIC', 2), ('ZIP', 2)]\n",
      "n: 50\n",
      "Check each column if the data is normally distrubuted with the shapiro wilk test:\n",
      "Condition  GVWY. We cannot reject the null hypothesis (p=0.62). Therefore, data is normally distributed.\n",
      "Condition  SHVR. We can reject the null hypothesis (p=0.04). Therefore, data is not normally distributed.\n",
      "Condition  ZIC. We cannot reject the null hypothesis (p=0.45). Therefore, data is normally distributed.\n",
      "Condition  ZIP. We cannot reject the null hypothesis (p=0.09). Therefore, data is normally distributed.\n",
      "There are 4 distributions. Therefore using Kruskal-Wallis\n",
      "Reject null hypothesis. There is sufficient evidence to suggest groups have a population different mean\n",
      "-----------------------------------------------------------------------------------------------------\n",
      "[('SHVR', 5), ('GVWY', 5), ('ZIC', 5), ('ZIP', 5)]\n",
      "n: 500\n",
      "Check each column if the data is normally distrubuted with the shapiro wilk test:\n",
      "Condition  GVWY. We cannot reject the null hypothesis (p=0.35). Therefore, data is normally distributed.\n",
      "Condition  SHVR. We cannot reject the null hypothesis (p=0.54). Therefore, data is normally distributed.\n",
      "Condition  ZIC. We cannot reject the null hypothesis (p=0.19). Therefore, data is normally distributed.\n",
      "Condition  ZIP. We can reject the null hypothesis (p=0.00). Therefore, data is not normally distributed.\n",
      "There are 4 distributions. Therefore using Kruskal-Wallis\n",
      "Reject null hypothesis. There is sufficient evidence to suggest groups have a population different mean\n",
      "-----------------------------------------------------------------------------------------------------\n",
      "[('SHVR', 8), ('GVWY', 4), ('ZIC', 4), ('ZIP', 4)]\n",
      "n: 500\n",
      "Check each column if the data is normally distrubuted with the shapiro wilk test:\n",
      "Condition  GVWY. We cannot reject the null hypothesis (p=0.62). Therefore, data is normally distributed.\n",
      "Condition  SHVR. We cannot reject the null hypothesis (p=0.41). Therefore, data is normally distributed.\n",
      "Condition  ZIC. We can reject the null hypothesis (p=0.01). Therefore, data is not normally distributed.\n",
      "Condition  ZIP. We can reject the null hypothesis (p=0.00). Therefore, data is not normally distributed.\n",
      "There are 4 distributions. Therefore using Kruskal-Wallis\n",
      "Reject null hypothesis. There is sufficient evidence to suggest groups have a population different mean\n",
      "-----------------------------------------------------------------------------------------------------\n",
      "[('SHVR', 4), ('GVWY', 4), ('ZIC', 4), ('ZIP', 8)]\n",
      "n: 500\n",
      "Check each column if the data is normally distrubuted with the shapiro wilk test:\n",
      "Condition  GVWY. We cannot reject the null hypothesis (p=0.12). Therefore, data is normally distributed.\n",
      "Condition  SHVR. We cannot reject the null hypothesis (p=0.10). Therefore, data is normally distributed.\n",
      "Condition  ZIC. We cannot reject the null hypothesis (p=0.18). Therefore, data is normally distributed.\n",
      "Condition  ZIP. We can reject the null hypothesis (p=0.00). Therefore, data is not normally distributed.\n",
      "There are 4 distributions. Therefore using Kruskal-Wallis\n",
      "Reject null hypothesis. There is sufficient evidence to suggest groups have a population different mean\n",
      "-----------------------------------------------------------------------------------------------------\n",
      "[('SHVR', 4), ('GVWY', 4), ('ZIC', 8), ('ZIP', 4)]\n",
      "n: 500\n",
      "Check each column if the data is normally distrubuted with the shapiro wilk test:\n",
      "Condition  GVWY. We can reject the null hypothesis (p=0.05). Therefore, data is not normally distributed.\n",
      "Condition  SHVR. We can reject the null hypothesis (p=0.00). Therefore, data is not normally distributed.\n",
      "Condition  ZIC. We cannot reject the null hypothesis (p=0.09). Therefore, data is normally distributed.\n",
      "Condition  ZIP. We can reject the null hypothesis (p=0.00). Therefore, data is not normally distributed.\n",
      "There are 4 distributions. Therefore using Kruskal-Wallis\n",
      "Reject null hypothesis. There is sufficient evidence to suggest groups have a population different mean\n",
      "-----------------------------------------------------------------------------------------------------\n",
      "[('SHVR', 4), ('GVWY', 8), ('ZIC', 4), ('ZIP', 4)]\n",
      "n: 500\n",
      "Check each column if the data is normally distrubuted with the shapiro wilk test:\n",
      "Condition  GVWY. We cannot reject the null hypothesis (p=0.73). Therefore, data is normally distributed.\n",
      "Condition  SHVR. We can reject the null hypothesis (p=0.00). Therefore, data is not normally distributed.\n",
      "Condition  ZIC. We can reject the null hypothesis (p=0.01). Therefore, data is not normally distributed.\n",
      "Condition  ZIP. We can reject the null hypothesis (p=0.00). Therefore, data is not normally distributed.\n",
      "There are 4 distributions. Therefore using Kruskal-Wallis\n",
      "Reject null hypothesis. There is sufficient evidence to suggest groups have a population different mean\n",
      "-----------------------------------------------------------------------------------------------------\n",
      "[('SHVR', 2), ('GVWY', 6), ('ZIC', 6), ('ZIP', 6)]\n",
      "n: 500\n",
      "Check each column if the data is normally distrubuted with the shapiro wilk test:\n",
      "Condition  GVWY. We cannot reject the null hypothesis (p=0.63). Therefore, data is normally distributed.\n",
      "Condition  SHVR. We can reject the null hypothesis (p=0.00). Therefore, data is not normally distributed.\n",
      "Condition  ZIC. We cannot reject the null hypothesis (p=0.27). Therefore, data is normally distributed.\n",
      "Condition  ZIP. We can reject the null hypothesis (p=0.00). Therefore, data is not normally distributed.\n",
      "There are 4 distributions. Therefore using Kruskal-Wallis\n",
      "Reject null hypothesis. There is sufficient evidence to suggest groups have a population different mean\n",
      "-----------------------------------------------------------------------------------------------------\n",
      "[('SHVR', 6), ('GVWY', 6), ('ZIC', 6), ('ZIP', 2)]\n",
      "n: 500\n",
      "Check each column if the data is normally distrubuted with the shapiro wilk test:\n",
      "Condition  GVWY. We cannot reject the null hypothesis (p=0.12). Therefore, data is normally distributed.\n",
      "Condition  SHVR. We cannot reject the null hypothesis (p=0.68). Therefore, data is normally distributed.\n",
      "Condition  ZIC. We cannot reject the null hypothesis (p=0.06). Therefore, data is normally distributed.\n",
      "Condition  ZIP. We can reject the null hypothesis (p=0.00). Therefore, data is not normally distributed.\n",
      "There are 4 distributions. Therefore using Kruskal-Wallis\n",
      "Reject null hypothesis. There is sufficient evidence to suggest groups have a population different mean\n",
      "-----------------------------------------------------------------------------------------------------\n",
      "[('SHVR', 6), ('GVWY', 6), ('ZIC', 2), ('ZIP', 6)]\n",
      "n: 500\n",
      "Check each column if the data is normally distrubuted with the shapiro wilk test:\n",
      "Condition  GVWY. We cannot reject the null hypothesis (p=0.13). Therefore, data is normally distributed.\n",
      "Condition  SHVR. We cannot reject the null hypothesis (p=0.07). Therefore, data is normally distributed.\n",
      "Condition  ZIC. We can reject the null hypothesis (p=0.00). Therefore, data is not normally distributed.\n",
      "Condition  ZIP. We can reject the null hypothesis (p=0.00). Therefore, data is not normally distributed.\n",
      "There are 4 distributions. Therefore using Kruskal-Wallis\n",
      "Reject null hypothesis. There is sufficient evidence to suggest groups have a population different mean\n",
      "-----------------------------------------------------------------------------------------------------\n",
      "[('SHVR', 6), ('GVWY', 2), ('ZIC', 6), ('ZIP', 6)]\n",
      "n: 500\n",
      "Check each column if the data is normally distrubuted with the shapiro wilk test:\n",
      "Condition  GVWY. We can reject the null hypothesis (p=0.00). Therefore, data is not normally distributed.\n",
      "Condition  SHVR. We can reject the null hypothesis (p=0.04). Therefore, data is not normally distributed.\n",
      "Condition  ZIC. We cannot reject the null hypothesis (p=0.34). Therefore, data is normally distributed.\n",
      "Condition  ZIP. We can reject the null hypothesis (p=0.01). Therefore, data is not normally distributed.\n",
      "There are 4 distributions. Therefore using Kruskal-Wallis\n",
      "Reject null hypothesis. There is sufficient evidence to suggest groups have a population different mean\n",
      "-----------------------------------------------------------------------------------------------------\n",
      "[('SHVR', 14), ('GVWY', 2), ('ZIC', 2), ('ZIP', 2)]\n",
      "n: 500\n",
      "Check each column if the data is normally distrubuted with the shapiro wilk test:\n",
      "Condition  GVWY. We can reject the null hypothesis (p=0.00). Therefore, data is not normally distributed.\n",
      "Condition  SHVR. We cannot reject the null hypothesis (p=0.95). Therefore, data is normally distributed.\n",
      "Condition  ZIC. We can reject the null hypothesis (p=0.00). Therefore, data is not normally distributed.\n",
      "Condition  ZIP. We can reject the null hypothesis (p=0.00). Therefore, data is not normally distributed.\n",
      "There are 4 distributions. Therefore using Kruskal-Wallis\n",
      "Reject null hypothesis. There is sufficient evidence to suggest groups have a population different mean\n",
      "-----------------------------------------------------------------------------------------------------\n",
      "[('SHVR', 2), ('GVWY', 2), ('ZIC', 2), ('ZIP', 14)]\n",
      "n: 500\n",
      "Check each column if the data is normally distrubuted with the shapiro wilk test:\n",
      "Condition  GVWY. We can reject the null hypothesis (p=0.00). Therefore, data is not normally distributed.\n",
      "Condition  SHVR. We can reject the null hypothesis (p=0.00). Therefore, data is not normally distributed.\n",
      "Condition  ZIC. We can reject the null hypothesis (p=0.00). Therefore, data is not normally distributed.\n",
      "Condition  ZIP. We can reject the null hypothesis (p=0.00). Therefore, data is not normally distributed.\n",
      "There are 4 distributions. Therefore using Kruskal-Wallis\n",
      "Reject null hypothesis. There is sufficient evidence to suggest groups have a population different mean\n",
      "-----------------------------------------------------------------------------------------------------\n",
      "[('SHVR', 2), ('GVWY', 2), ('ZIC', 14), ('ZIP', 2)]\n",
      "n: 500\n",
      "Check each column if the data is normally distrubuted with the shapiro wilk test:\n",
      "Condition  GVWY. We can reject the null hypothesis (p=0.00). Therefore, data is not normally distributed.\n",
      "Condition  SHVR. We can reject the null hypothesis (p=0.00). Therefore, data is not normally distributed.\n",
      "Condition  ZIC. We cannot reject the null hypothesis (p=0.31). Therefore, data is normally distributed.\n",
      "Condition  ZIP. We can reject the null hypothesis (p=0.00). Therefore, data is not normally distributed.\n",
      "There are 4 distributions. Therefore using Kruskal-Wallis\n",
      "Reject null hypothesis. There is sufficient evidence to suggest groups have a population different mean\n",
      "-----------------------------------------------------------------------------------------------------\n",
      "[('SHVR', 2), ('GVWY', 14), ('ZIC', 2), ('ZIP', 2)]\n",
      "n: 500\n",
      "Check each column if the data is normally distrubuted with the shapiro wilk test:\n",
      "Condition  GVWY. We cannot reject the null hypothesis (p=0.49). Therefore, data is normally distributed.\n",
      "Condition  SHVR. We can reject the null hypothesis (p=0.00). Therefore, data is not normally distributed.\n",
      "Condition  ZIC. We can reject the null hypothesis (p=0.00). Therefore, data is not normally distributed.\n",
      "Condition  ZIP. We can reject the null hypothesis (p=0.00). Therefore, data is not normally distributed.\n",
      "There are 4 distributions. Therefore using Kruskal-Wallis\n",
      "Reject null hypothesis. There is sufficient evidence to suggest groups have a population different mean\n",
      "-----------------------------------------------------------------------------------------------------\n"
     ]
    }
   ],
   "source": [
    "part_c()"
   ],
   "metadata": {
    "collapsed": false,
    "ExecuteTime": {
     "end_time": "2023-11-22T02:03:58.769529600Z",
     "start_time": "2023-11-22T00:27:47.411436300Z"
    }
   }
  },
  {
   "cell_type": "markdown",
   "metadata": {},
   "source": [
    "END OF REPORT. ONLY WORD COUNT BELOW THIS POINT. "
   ]
  },
  {
   "cell_type": "code",
   "execution_count": 7,
   "metadata": {
    "ExecuteTime": {
     "end_time": "2023-11-21T05:06:18.596867200Z",
     "start_time": "2023-11-21T05:06:17.943911600Z"
    }
   },
   "outputs": [
    {
     "name": "stderr",
     "output_type": "stream",
     "text": [
      "C:\\Users\\izami\\AppData\\Local\\Temp\\ipykernel_39204\\2932030967.py:3: DeprecationWarning: nbformat.current is deprecated since before nbformat 3.0\n",
      "\n",
      "- use nbformat for read/write/validate public API\n",
      "- use nbformat.vX directly to composing notebooks of a particular version\n",
      "\n",
      "  from nbformat import current\n"
     ]
    }
   ],
   "source": [
    "# Do not edit this code. It will print the word count of your notebook.\n",
    "import io\n",
    "from nbformat import current\n",
    "\n",
    "def printWordCount(filepath):\n",
    "\n",
    "    with io.open(filepath, 'r', encoding='utf-8') as f:\n",
    "        nb = current.read(f, 'json')\n",
    "\n",
    "    word_count = 0\n",
    "    for cell in nb.worksheets[0].cells:\n",
    "        if cell.cell_type == \"markdown\":\n",
    "            word_count += len(cell['source'].replace('#', '').lstrip().split(' '))\n",
    "    print(\"Word count: \" + str(word_count) + \". Limit is 2000 words.\")"
   ]
  },
  {
   "cell_type": "code",
   "execution_count": 8,
   "metadata": {
    "ExecuteTime": {
     "end_time": "2023-11-21T05:06:18.801493600Z",
     "start_time": "2023-11-21T05:06:18.600441200Z"
    }
   },
   "outputs": [
    {
     "name": "stdout",
     "output_type": "stream",
     "text": [
      "Word count: 12. Limit is 2000 words.\n"
     ]
    }
   ],
   "source": [
    "# This should be the final output of your notebook.\n",
    "# Edit filename to be the same as this filename and then run.\n",
    "# Save your file before running this code.\n",
    "\n",
    "this_file_name = \"cw.ipynb\" # Enter name of this file here\n",
    "printWordCount(this_file_name)"
   ]
  },
  {
   "cell_type": "code",
   "execution_count": 8,
   "metadata": {
    "ExecuteTime": {
     "end_time": "2023-11-21T05:06:18.802495100Z",
     "start_time": "2023-11-21T05:06:18.792451600Z"
    }
   },
   "outputs": [],
   "source": []
  }
 ],
 "metadata": {
  "kernelspec": {
   "display_name": "Python 3 (ipykernel)",
   "language": "python",
   "name": "python3"
  },
  "language_info": {
   "codemirror_mode": {
    "name": "ipython",
    "version": 3
   },
   "file_extension": ".py",
   "mimetype": "text/x-python",
   "name": "python",
   "nbconvert_exporter": "python",
   "pygments_lexer": "ipython3",
   "version": "3.11.4"
  }
 },
 "nbformat": 4,
 "nbformat_minor": 2
}
