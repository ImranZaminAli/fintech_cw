{
 "cells": [
  {
   "cell_type": "markdown",
   "id": "b09cbbb6-31fa-4543-95bc-3a36fd97cadb",
   "metadata": {
    "tags": []
   },
   "source": [
    "# Week 5 Activity: Hypothesis Testing Solution 2 (data2.csv)\n"
   ]
  },
  {
   "cell_type": "markdown",
   "id": "ab527114-e72e-4ca5-84f3-9b000a88f2e5",
   "metadata": {
    "tags": []
   },
   "source": [
    "This week you will be using python to visualise some data and perform hypothesis testing. Please refer to lecture __W5.L1: Empirical Methods__.\n",
    "\n",
    "For further reading, I suggest the following reference book, available online via University library:\n",
    "+ Peter Bruce, Andrew Bruce, Peter Gedeck (2020), Practical Statistics for Data Scientists: 50+ Essential Concepts Using R and Python. \n",
    "<br>Link: https://bris.on.worldcat.org/oclc/1151182591"
   ]
  },
  {
   "cell_type": "markdown",
   "id": "e0893e0e-6eb8-44b2-ab25-0ae54b11737c",
   "metadata": {
    "tags": []
   },
   "source": [
    "### Instructions: \n",
    "\n",
    "In today's session, you will be visualising and analysing two datasets. These data are stored in the following files:\n",
    "+ `w5.data/data1.csv`\n",
    "+ `w5.data/data2.csv`\n",
    "\n",
    "Each dataset contains a sample of values measured from a population subject to different conditions. We consider these conditions in the abstract and name them condition \"a\", \"b\", etc. However, if you want a more concrete example, you could consider that these data are empirical outcomes from your market experiments. For instance, condition \"a\" could be \"markets containing ZIC traders only\" and condition \"b\" could be \"markets containing ZIP traders only\". Then, each value is mean profit per trader; and each row is the result of one experimental trail. \n",
    "\n",
    "Your task is to do the following:\n",
    "1. select *one* of the datasets\n",
    "2. summarise the dataset you have chosen: number of columns (i.e., number of conditions), number of instances (i.e., number of rows/trials), mean and standard deviation of each column (i.e., mean and standard deviation of each condition)\n",
    "3. use a staticial test to determine whether data are normally distributed (e.g., Shapiro-Wilk or Kolmogoroc-Smirnov)\n",
    "4. visualise the dataset you have chosen to understand the distribution of values under each condition. Consider using scatter plot, histogram, box-and-whisker plot, violin plot, etc.\n",
    "5. use a statistical hypothesis test to determine whether there is a significant statistical difference between conditions in the dataset (e.g., t-test, ANOVA, Mann-Whitney, Kruskal-Wallis).\n",
    "\n",
    "If you finish with time remaining, then go back and repeat the above steps using the *other* data set. "
   ]
  },
  {
   "cell_type": "markdown",
   "id": "cc52b442-9e15-4c13-8f8e-7452f552ecf2",
   "metadata": {
    "tags": []
   },
   "source": [
    "### Getting started. Importing required python libraries"
   ]
  },
  {
   "cell_type": "markdown",
   "id": "56ccb585-e72f-44d3-bf7a-c867a995ab9f",
   "metadata": {},
   "source": [
    "We will be using the following useful libraries to help us perform statistical analysis:\n",
    "\n",
    "+ `SciPy`: Fundamental algorithms for scientific computing in Python - https://scipy.org\n",
    "+ `Seaborn`: Statistical data visualisation - https://seaborn.pydata.org\n",
    "+ `matplotlib`: visualisation with python - https://matplotlib.org\n",
    "+ `statsmodels`: Functions for estimation of different statistical models - https://www.statsmodels.org/stable/index.html\n",
    "+ `pandas`: For handling data - https://pandas.pydata.org/docs/getting_started/index.html\n",
    "\n",
    "Let's begin by importing these python libraries for use today."
   ]
  },
  {
   "cell_type": "code",
   "execution_count": 7,
   "id": "9dbd63a9-432e-4d2b-981c-978aa5890b8c",
   "metadata": {
    "tags": []
   },
   "outputs": [],
   "source": [
    "# import some useful libraries to help us wrangle data, \n",
    "# plot data, and perform statistial analysis \n",
    "import scipy as sp\n",
    "from scipy import stats\n",
    "import seaborn as sns \n",
    "import matplotlib.pyplot as plt \n",
    "import statsmodels.api as sm\n",
    "import pandas as pd\n",
    "import pingouin as pg"
   ]
  },
  {
   "cell_type": "markdown",
   "id": "7196d067-788f-4952-a96e-6d61acc97dc4",
   "metadata": {},
   "source": [
    "### 1. Read in data2.csv\n",
    "\n",
    "Select one dataset to work with. Read the dataset from the chosen csv file.\n",
    "\n",
    "> Hint: Use `pandas` library to read a csv file into a pandas dataframe <br>\n",
    "> https://pandas.pydata.org/docs/reference/api/pandas.read_csv.html\n",
    "\n",
    "Then show the top rows of the dataframe..."
   ]
  },
  {
   "cell_type": "code",
   "execution_count": 8,
   "id": "44ac3893-7b8e-429e-a17f-de9841f1e5ec",
   "metadata": {
    "tags": []
   },
   "outputs": [
    {
     "data": {
      "text/html": [
       "<div>\n",
       "<style scoped>\n",
       "    .dataframe tbody tr th:only-of-type {\n",
       "        vertical-align: middle;\n",
       "    }\n",
       "\n",
       "    .dataframe tbody tr th {\n",
       "        vertical-align: top;\n",
       "    }\n",
       "\n",
       "    .dataframe thead th {\n",
       "        text-align: right;\n",
       "    }\n",
       "</style>\n",
       "<table border=\"1\" class=\"dataframe\">\n",
       "  <thead>\n",
       "    <tr style=\"text-align: right;\">\n",
       "      <th></th>\n",
       "      <th>x</th>\n",
       "      <th>y</th>\n",
       "    </tr>\n",
       "  </thead>\n",
       "  <tbody>\n",
       "    <tr>\n",
       "      <th>0</th>\n",
       "      <td>46.795292</td>\n",
       "      <td>50.0</td>\n",
       "    </tr>\n",
       "    <tr>\n",
       "      <th>1</th>\n",
       "      <td>47.478943</td>\n",
       "      <td>51.0</td>\n",
       "    </tr>\n",
       "    <tr>\n",
       "      <th>2</th>\n",
       "      <td>46.480561</td>\n",
       "      <td>49.0</td>\n",
       "    </tr>\n",
       "    <tr>\n",
       "      <th>3</th>\n",
       "      <td>46.444270</td>\n",
       "      <td>50.0</td>\n",
       "    </tr>\n",
       "    <tr>\n",
       "      <th>4</th>\n",
       "      <td>48.965781</td>\n",
       "      <td>50.0</td>\n",
       "    </tr>\n",
       "  </tbody>\n",
       "</table>\n",
       "</div>"
      ],
      "text/plain": [
       "           x     y\n",
       "0  46.795292  50.0\n",
       "1  47.478943  51.0\n",
       "2  46.480561  49.0\n",
       "3  46.444270  50.0\n",
       "4  48.965781  50.0"
      ]
     },
     "execution_count": 8,
     "metadata": {},
     "output_type": "execute_result"
    }
   ],
   "source": [
    "# Read in data from csv file using pandas\n",
    "\n",
    "# Uncomment the following as required\n",
    "#df = pd.read_csv('w5.data/data1.csv') # read data1 to dataframe\n",
    "df = pd.read_csv('w5.data/data2.csv') # read data2 to dataframe\n",
    "\n",
    "df.head() # show top rows of dataframe"
   ]
  },
  {
   "cell_type": "markdown",
   "id": "a50904cd-d7ad-4b8c-8d85-87dbfec7b5ac",
   "metadata": {},
   "source": [
    "We have selected `data2`. We can see that there are two conditions 'x' and 'y'.\n",
    "\n",
    "Each column presents a sample distribution of profits generated from two alternative trading stratiges. \n",
    "\n",
    "We would like to know whether there is any difference in the profits generated by the two strategies. "
   ]
  },
  {
   "cell_type": "markdown",
   "id": "6cf713b1-e6c1-41fc-a3ce-b290441c07bd",
   "metadata": {},
   "source": [
    "### 2. Summarise the data\n",
    "\n",
    "Briefly summarise the dataset. Find the following:\n",
    "+ Number and name of conditions\n",
    "+ Number of instances, n, of each condition\n",
    "+ Mean and standard deviation of values for each condition\n",
    "\n",
    "One approach is to open the raw data in the csv file and use Excel to calculate these values. Alternatively, you can use python code:\n"
   ]
  },
  {
   "cell_type": "code",
   "execution_count": 9,
   "id": "d2905375-157c-4bb0-b414-240da2e20f1a",
   "metadata": {
    "tags": []
   },
   "outputs": [
    {
     "name": "stdout",
     "output_type": "stream",
     "text": [
      "Condition x. n=20, mean=50.31, std=3.06\n",
      "Condition y. n=20, mean=53.77, std=3.74\n"
     ]
    }
   ],
   "source": [
    "# Iterate through the columns, output name, \n",
    "# number of instances n, mean, and standard deviation\n",
    "\n",
    "for col in df.columns:\n",
    "    print(\"Condition \" + \"{:}\".format(col) + \n",
    "          \". n=\"+\"{:}\".format(df[col].count()) +\n",
    "          \", mean=\"+\"{:.2f}\".format(df[col].mean()) +\n",
    "          \", std=\"+\"{:.2f}\".format(df[col].std())) "
   ]
  },
  {
   "cell_type": "markdown",
   "id": "e19b0dc0-3215-4b60-b943-5f0fbb7a18f7",
   "metadata": {},
   "source": [
    "What do these summary values tell us? Are the profits for all conditions the same? Do some conditions lead to higher profits? Is it possible for us to tell from these values alone?"
   ]
  },
  {
   "cell_type": "markdown",
   "id": "41ea4300-8999-4ab7-acb7-ffb7b7b35ea7",
   "metadata": {},
   "source": [
    "We can see that we have equal sample size = 20, for each condition. \n",
    "At first glance, considering only the mean profit, condition 'y' appears best. Can we stop here? No! Mean values alone tell us very little. \n",
    "\n",
    "We need to understand how the data varies. Standard deviation helps us here. Notice that the standard deviation (the variance) around the mean is larger than the differences between the means. Therefore, it is not clear that 'y' is the best from this data alone. We need to do more work."
   ]
  },
  {
   "cell_type": "markdown",
   "id": "9b44240f-14f1-474b-b0a7-88e0d180d56d",
   "metadata": {},
   "source": [
    "### 3. Determine whether data are normally distributed\n",
    "\n",
    "Summary statistics, in isolation, only tell us so much. If we want to accurately analyse these data we need to understand their distributions. In particular, if we want to perform correct hypothesis testing, we must first determine whether the data is (approximately) normally distributed.\n",
    "\n",
    "The __Shaprio-Wilk__ test and the __Kolmogorov-Smirnov__ test for goodness of fit can help us here: \n",
    "\n",
    "> The Shaprio-Wilk test tests the null hypothesiss that the data was drawn from a normal distribution. \n",
    "> `stats.shapiro(x)` returns tuple (A,B) where A = test statistic and B = p-value for the hypothesis test. \n",
    "> If p-value < 0.05, we reject the null hypothesis, i.e., the data is not drawn from an (approximately) normal distribution \n",
    "> If p-value >= 0.05 we cannot reject the null hypothesis that the data is drawn from an approximately normal distribution.\n",
    "\n",
    "> The Kolmogorov-Smirnov test tests for goodness of fit to a standard normal distribution. \n",
    "> To use this test, it is necessary to first normalise our data (to have mean=0 and variance=1).\n",
    "> To normalise: for each value, subtract the mean, then divide by the standard deviation <br>\n",
    "\n",
    "There are methods in the `stats` package in `scipy` that enable us to perform these tests:\n",
    "\n",
    "+ Shapiro-Wilk test for normality: https://docs.scipy.org/doc/scipy/reference/generated/scipy.stats.shapiro.html <br>\n",
    "+ Kolmogorov-Smirnov test for goodness of fit: https://docs.scipy.org/doc/scipy/reference/generated/scipy.stats.kstest.html#scipy.stats.kstest\n",
    "\n",
    "Decide which test you will use, then perform the test on each column of your data to see if the data are approximately normally distributed for each condition. What is the p-value for each column? Using this p-value, determine whether your data are (approximately) normally distributed. \n"
   ]
  },
  {
   "cell_type": "markdown",
   "id": "47229016-6248-4105-83c9-217a9b7a1485",
   "metadata": {},
   "source": [
    "#### Alternative 1: Shapiro-Wilk"
   ]
  },
  {
   "cell_type": "code",
   "execution_count": 10,
   "id": "4da0f4c1-b9b2-4663-bf57-79a6751ab754",
   "metadata": {},
   "outputs": [
    {
     "name": "stdout",
     "output_type": "stream",
     "text": [
      "Using Shapiro-Wilk test to test the null hypothesis that the data was drawn from a normal distribution:\n",
      "Condition x. We can reject the null hypothesis (p=0.01). Therefore, data is not normally distributed.\n",
      "Condition y. We can reject the null hypothesis (p=0.03). Therefore, data is not normally distributed.\n"
     ]
    }
   ],
   "source": [
    "# Shapiro-Wilk test tests the null hypothesis that \n",
    "# the data was drawn from a normal distribution\n",
    "\n",
    "print(\"Using Shapiro-Wilk test to test the null hypothesis \" +\n",
    "      \"that the data was drawn from a normal distribution:\")\n",
    "\n",
    "for col in df.columns:\n",
    "    statistic, pvalue = stats.shapiro(df[col])\n",
    "    if pvalue < 0.05:\n",
    "        print(\"Condition \" + \"{:}\".format(col) + \n",
    "              \". We can reject the null hypothesis (p=\" + \n",
    "              \"{:.2f}\".format(pvalue) + \n",
    "              \"). Therefore, data is not normally distributed.\")\n",
    "    else:\n",
    "        print(\"Condition \" + \"{:}\".format(col) + \n",
    "              \". We cannot reject the null hypothesis (p=\" + \n",
    "              \"{:.2f}\".format(pvalue) + \n",
    "              \"). Therefore, data is normally distributed.\")"
   ]
  },
  {
   "cell_type": "code",
   "execution_count": 13,
   "id": "5f48932c",
   "metadata": {},
   "outputs": [
    {
     "name": "stdout",
     "output_type": "stream",
     "text": [
      "20\n"
     ]
    }
   ],
   "source": [
    "pg.normality(df)\n",
    "num_values = len(df.iloc[:, 0])\n",
    "print(num_values)"
   ]
  },
  {
   "cell_type": "markdown",
   "id": "7a3bdbca-4536-408b-8481-b323fd4a3688",
   "metadata": {},
   "source": [
    "The results of the Shapiro-Wilk test suggest that the data for each condition is __not__ normally distributed."
   ]
  },
  {
   "cell_type": "markdown",
   "id": "7f1358cb-5be5-4589-982e-132152c3ae83",
   "metadata": {},
   "source": [
    "#### Alternative 2: Kolmogorov-Smirnov"
   ]
  },
  {
   "cell_type": "markdown",
   "id": "50e1642e-f123-4d00-a62f-6ae0c1aa9974",
   "metadata": {},
   "source": [
    "We can use the Kolmogorov-Smirnov test for goodness of fit to a standard normal distribution. However, we must first normalise our data (to have mean=0 and std=1)."
   ]
  },
  {
   "cell_type": "code",
   "execution_count": 5,
   "id": "04b3daff-67a4-4fe9-867d-c984d10d0e84",
   "metadata": {},
   "outputs": [],
   "source": [
    "# Normalise data\n",
    "norm_x = (df['x'] - df['x'].mean())/df['x'].std()\n",
    "norm_y = (df['y'] - df['y'].mean())/df['y'].std()"
   ]
  },
  {
   "cell_type": "code",
   "execution_count": 6,
   "id": "b19271bf-c1d7-4542-a59c-5ec40c9d20f8",
   "metadata": {},
   "outputs": [
    {
     "name": "stdout",
     "output_type": "stream",
     "text": [
      "Condition x. KstestResult(statistic=0.18491118832543735, pvalue=0.44761566738188807)\n",
      "Condition y. KstestResult(statistic=0.22934039106951853, pvalue=0.20859404951128324)\n"
     ]
    }
   ],
   "source": [
    "# Perform KS test on normalised datasets\n",
    "print(\"Condition x. \" + str(stats.kstest(norm_x,'norm')))\n",
    "print(\"Condition y. \" + str(stats.kstest(norm_y,'norm')))"
   ]
  },
  {
   "cell_type": "markdown",
   "id": "1e98eb59-c9d9-4be6-896f-1a286ddf4145",
   "metadata": {
    "tags": []
   },
   "source": [
    "All distributions have p>0.05, so null hypothesis is not rejected. Therefore, we can assume that the data is normally distributed."
   ]
  },
  {
   "cell_type": "markdown",
   "id": "6015159f-59f3-44d4-8db5-e964591144f0",
   "metadata": {},
   "source": [
    "Notice that this is a __different__ result to the Shapiro-Wilke test. The Shapiro-Wilke test is a specific test for normality, whereas the method used by the Kolmogorov-Smirnov test is more general and less powerful (i.e., it correctly rejects the null hypothesis of normality less often; in other words, it incorrectly does not reject the null hypothesis more often). "
   ]
  },
  {
   "cell_type": "markdown",
   "id": "84d77142-15ef-4775-abf0-349c54e2e8f9",
   "metadata": {
    "tags": []
   },
   "source": [
    "### 4. Visualise the data\n",
    "\n",
    "You have determined if your data is normally distributed, or not, using a statistical test. However, it is good practice to always visualise your data. \n",
    "\n",
    "#### Visualising normality\n",
    "\n",
    "Visualisations can also help us to determine the normality of data: are the data unimodal, roughly symmetric, tails not too heavy?\n",
    "\n",
    "Often, to best understand your data, it is a good idea to visualise it in different ways. \n",
    "\n",
    "Here are some common approaches for visualising (lack of) normality in data:\n",
    "\n",
    "> A __QQ plot__ (formally, a quantile-quantile plot) can be used to visually compare data with a normal distribution. \n",
    "> You can use `statsmodels` to create a QQ plot. <br>\n",
    "> https://www.statsmodels.org/dev/generated/statsmodels.graphics.gofplots.qqplot.html <br>\n",
    "> The QQ plot plots data from the distribtion against a normal distribution. \n",
    "> If the sample data falls close to the red line (showing x=y), then the data is approximately normal. \n",
    "> Note that you should normalise your data first (to have mean 0 and standard deviation 1). <br>\n",
    "\n",
    "> You can plot your distributions using a histogram or kernel density estimation (KDE) to see the distribution shape. \n",
    "> If the data is roughly bell-shaped you have (approximately) normal distribution.\n",
    "> `Seaborn` is a useful library for plotting these graphs: <br> \n",
    "> + A __histogram__ is a classic visualization tool that represents the distribution of \n",
    "> one or more variables by counting the number of observations that fall within discrete bins: <br>\n",
    "> https://seaborn.pydata.org/generated/seaborn.histplot.html\n",
    "> + __Kernel density estimation__ is useful for plotting multiple distributions on one set of axes: <br> \n",
    "> https://seaborn.pydata.org/generated/seaborn.kdeplot.html#seaborn.kdeplot\n",
    "\n",
    "Now try to visualise your data using a QQ plot and/or histograms and/or a KDE plot.\n"
   ]
  },
  {
   "cell_type": "markdown",
   "id": "4d913220-5cf7-47bb-8a82-7802ce51abe9",
   "metadata": {},
   "source": [
    "#### Alternative 1. Kernel density estimation (KDE) plot\n",
    "\n",
    "Use `seaborn` to plot a KDE of data..."
   ]
  },
  {
   "cell_type": "code",
   "execution_count": 7,
   "id": "a9c68aef-976b-4a0b-ab48-3437fdae37b8",
   "metadata": {},
   "outputs": [
    {
     "data": {
      "text/plain": [
       "<AxesSubplot:ylabel='Density'>"
      ]
     },
     "execution_count": 7,
     "metadata": {},
     "output_type": "execute_result"
    },
    {
     "data": {
      "image/png": "[encoded data removed]",
      "text/plain": [
       "<Figure size 432x288 with 1 Axes>"
      ]
     },
     "metadata": {
      "needs_background": "light"
     },
     "output_type": "display_data"
    }
   ],
   "source": [
    "sns.kdeplot(data=df, fill=True)"
   ]
  },
  {
   "cell_type": "markdown",
   "id": "dac63d04-61e4-41da-b78d-31e47705e1e7",
   "metadata": {},
   "source": [
    "We can see that the two distributions are bi-modal (they have two peaks). Neither distribution is bell-shaped, so these do __not__ look normally distributed (as confirmed by the Shapiro-Wilke test).\n"
   ]
  },
  {
   "cell_type": "markdown",
   "id": "779cab67-2a3b-4e15-91a3-81ab11d6d4e7",
   "metadata": {},
   "source": [
    "#### Alternative 2: Quantile-Quantile (QQ) plot"
   ]
  },
  {
   "cell_type": "markdown",
   "id": "6794dad7-48c0-4d1d-a235-ffae2956deb8",
   "metadata": {},
   "source": [
    "Use `statsmodels` to create quantile-quantile plots...  "
   ]
  },
  {
   "cell_type": "code",
   "execution_count": 8,
   "id": "d9e00484-0c0a-4db9-be79-0f8fb7713ba4",
   "metadata": {},
   "outputs": [
    {
     "data": {
      "image/png": "[encoded data removed]",
      "text/plain": [
       "<Figure size 432x288 with 1 Axes>"
      ]
     },
     "metadata": {
      "needs_background": "light"
     },
     "output_type": "display_data"
    },
    {
     "data": {
      "image/png": "[encoded data removed]",
      "text/plain": [
       "<Figure size 432x288 with 1 Axes>"
      ]
     },
     "metadata": {
      "needs_background": "light"
     },
     "output_type": "display_data"
    }
   ],
   "source": [
    "# create Q-Q plot with 45-degree line added to plot\n",
    "fig = sm.qqplot(norm_x, line='45') # we must use normalised data\n",
    "fig = sm.qqplot(norm_y, line='45') # we must use normalised data"
   ]
  },
  {
   "cell_type": "markdown",
   "id": "329f8123-7e9b-49e8-9eb8-360d37f30ab7",
   "metadata": {},
   "source": [
    "For both conditions, the sample data varies from the red line systematically. This is evidence that these data are not (approximately) normally distributed. \n",
    "\n",
    "In summary, the weight of evidence suggests these data are __not__ normally distributed."
   ]
  },
  {
   "cell_type": "markdown",
   "id": "141863e0-a72d-48c6-93df-7979d4ad5422",
   "metadata": {},
   "source": [
    "#### Comparing distributions visually \n",
    "\n",
    "The data contains results of experiments under multiple conditions. We can use visualisations to compare the results of each condition. \n",
    "\n",
    "Attempt the following three approaches to visually compare your data:\n",
    "+ Create a __barplot__ of mean and confidence interval: https://seaborn.pydata.org/generated/seaborn.barplot.html\n",
    "+ Create a __box plot__ (or box-and-whisker plot) showing inter-quartile ranges: https://seaborn.pydata.org/generated/seaborn.boxplot.html\n",
    "+ Create a __violin plot__: https://seaborn.pydata.org/generated/seaborn.violinplot.html"
   ]
  },
  {
   "cell_type": "markdown",
   "id": "ad839f5f-5cbb-4c79-934f-c3dd59ed246c",
   "metadata": {},
   "source": [
    "#### Alternative 1: Bar plot"
   ]
  },
  {
   "cell_type": "code",
   "execution_count": 9,
   "id": "5a42eca8-eb14-4a0e-98cb-5a6eccf56206",
   "metadata": {},
   "outputs": [
    {
     "data": {
      "text/plain": [
       "<AxesSubplot:>"
      ]
     },
     "execution_count": 9,
     "metadata": {},
     "output_type": "execute_result"
    },
    {
     "data": {
      "image/png": "[encoded data removed]",
      "text/plain": [
       "<Figure size 432x288 with 1 Axes>"
      ]
     },
     "metadata": {
      "needs_background": "light"
     },
     "output_type": "display_data"
    }
   ],
   "source": [
    "# Use seaborn to create a barplot\n",
    "sns.barplot(data=df)"
   ]
  },
  {
   "cell_type": "markdown",
   "id": "3b02f4e9-9270-4f49-b09f-840a057f848e",
   "metadata": {},
   "source": [
    "#### Alternative 2: Box plot"
   ]
  },
  {
   "cell_type": "code",
   "execution_count": 10,
   "id": "e9eaca00-59b5-4f39-a9a5-22bc3ce5ba39",
   "metadata": {},
   "outputs": [
    {
     "data": {
      "text/plain": [
       "<AxesSubplot:>"
      ]
     },
     "execution_count": 10,
     "metadata": {},
     "output_type": "execute_result"
    },
    {
     "data": {
      "image/png": "[encoded data removed]",
      "text/plain": [
       "<Figure size 432x288 with 1 Axes>"
      ]
     },
     "metadata": {
      "needs_background": "light"
     },
     "output_type": "display_data"
    }
   ],
   "source": [
    "# Use seaborn to create a boxplot\n",
    "sns.boxplot(data=df)"
   ]
  },
  {
   "cell_type": "markdown",
   "id": "7025e7bc-cced-4cf9-b34b-76d18fa66d15",
   "metadata": {},
   "source": [
    "##### Alternative 3: Violin plot"
   ]
  },
  {
   "cell_type": "code",
   "execution_count": 11,
   "id": "83f48a74-e603-4636-8be0-3b53147b6dc4",
   "metadata": {},
   "outputs": [
    {
     "data": {
      "image/png": "[encoded data removed]",
      "text/plain": [
       "<Figure size 432x288 with 1 Axes>"
      ]
     },
     "metadata": {
      "needs_background": "light"
     },
     "output_type": "display_data"
    }
   ],
   "source": [
    "# Use seaborn to create a violin plot\n",
    "ax = sns.violinplot(data=df, inner='box')\n",
    "\n",
    "# Label our axes appropriately\n",
    "ax.set_title(\"Profits by trading algorithm\")\n",
    "ax.set_ylabel(\"Profits (GBP)\")\n",
    "ax.set_xlabel(\"Algorithm\")\n",
    "\n",
    "plt.show()"
   ]
  },
  {
   "cell_type": "markdown",
   "id": "618257f0-ee52-4a32-897b-a941395cd8a7",
   "metadata": {},
   "source": [
    "Qu: Which visual presents the most information? Which presents the least?\n",
    "\n",
    "+ Notice that the bar plot, particularly if there is no confidence interval plotted, tells us very little indeed.\n",
    "+ The box and whiskers plot is a much better choice - condition `b` has much higher median, but also much larger range\n",
    "+ Violin plots also give lots of information about shape of distribution as well as range of values - here we see both conditions have bi-modal profit distributions. It is clear that they are not normally distributed. "
   ]
  },
  {
   "cell_type": "markdown",
   "id": "c40b781a-834e-453f-a84c-bb6b4a4f1b96",
   "metadata": {},
   "source": [
    "### 5. Hypothesis testing\n",
    "\n",
    "So, now you have determind whether or not the data is normal and you have visualised the comparative distributions. You now have a good idea about whether profits appear to be similar under all conditions, or whether some conditions appear to lead to grater profits.\n",
    "\n",
    "However, to know for sure whether a change in condition results in a change in profits, you need to perform a statistical test.\n",
    "\n",
    "First, you must set up a null hypothsis. You then perform a statistical test to generate a p-value. If p-value < 0.05 then you can reject the null hypothsis. \n",
    "\n",
    "Depending on your data, consider one of the following four hypothesis tests:\n",
    "\n",
    "+ __t-test__: https://docs.scipy.org/doc/scipy/reference/generated/scipy.stats.ttest_ind.html\n",
    "+ __ANOVA__: https://docs.scipy.org/doc/scipy/reference/generated/scipy.stats.f_oneway.html\n",
    "+ __Mann-Whitney__: https://docs.scipy.org/doc/scipy/reference/generated/scipy.stats.mannwhitneyu.html.\n",
    "+ __Kruskal-Wallis__: https://docs.scipy.org/doc/scipy/reference/generated/scipy.stats.kruskal.html#scipy.stats.kruskal. \n",
    "\n",
    "Decide which test is appropriate and then write code to perform the test, below.\n"
   ]
  },
  {
   "cell_type": "markdown",
   "id": "f6069969-f7ec-4f7b-b4ed-34e7aeb4ec0e",
   "metadata": {},
   "source": [
    "#### Hypothesis test selection\n",
    "\n",
    "We have determined that our data is not normally distributed. Sample sizes are also not large enough for the [central limit theorem](https://en.wikipedia.org/wiki/Central_limit_theorem) to apply. Therefore we should use a __non-parametric__ test such as Mann-Whitney or Kruskal-Wallis. "
   ]
  },
  {
   "cell_type": "markdown",
   "id": "3bd2a8ea-18cc-4878-82ab-e380226384e4",
   "metadata": {},
   "source": [
    "How many samples are we comparing?\n",
    "\n",
    "+ For a 2-sample A/B test, use Mann-Whitney: https://docs.scipy.org/doc/scipy/reference/generated/scipy.stats.mannwhitneyu.html.\n",
    "The Mann-Whitney U test is a nonparametric test of the null hypothesis that the distribution underlying sample x is the same as the distribution underlying sample y. It is often used as a test of difference in location between distributions.\n",
    "+ For multiple groups A/B/C test, use Kruskal-Wallis: https://docs.scipy.org/doc/scipy/reference/generated/scipy.stats.kruskal.html#scipy.stats.kruskal. The Kruskal-Wallis H-test tests the null hypothesis that the population median of all of the groups are equal. It is a non-parametric version of ANOVA. The test works on 2 or more independent samples, which may have different sizes. Note that rejecting the null hypothesis does not indicate which of the groups differs. Post hoc comparisons between groups are required to determine which groups are different."
   ]
  },
  {
   "cell_type": "markdown",
   "id": "eb9c90f4-5fb8-498a-90c0-fa554858e6b4",
   "metadata": {},
   "source": [
    "We have two samples, so we should use Mann-Whitney U test..."
   ]
  },
  {
   "cell_type": "code",
   "execution_count": 12,
   "id": "0e24f01f-2493-44ff-babf-d942be7ce73c",
   "metadata": {},
   "outputs": [
    {
     "data": {
      "text/plain": [
       "MannwhitneyuResult(statistic=88.0, pvalue=0.002536789623084718)"
      ]
     },
     "execution_count": 12,
     "metadata": {},
     "output_type": "execute_result"
    }
   ],
   "source": [
    "# Use stats package from scipy to perform Mann-Whitney\n",
    "stats.mannwhitneyu(df['x'],df['y'])"
   ]
  },
  {
   "cell_type": "markdown",
   "id": "95d32cb2-9987-4264-805d-d46247a32ea8",
   "metadata": {},
   "source": [
    "p<0.05, therefore we can __reject__ the null hypothesis. There is a statistically significant difference in the locations of the distributions.\n",
    "\n",
    "In other words, the profits generated by trader y are significantly greater than the profits generated by trader x."
   ]
  },
  {
   "cell_type": "markdown",
   "id": "ac4f1a01-0950-4942-bd19-820856c2e64d",
   "metadata": {},
   "source": [
    "For completeness only, let's perform a Kruskal-Wallis test. "
   ]
  },
  {
   "cell_type": "code",
   "execution_count": 13,
   "id": "ac13a371-d69b-4d44-9b41-17e9a7bc5323",
   "metadata": {},
   "outputs": [
    {
     "data": {
      "text/plain": [
       "KruskalResult(statistic=9.195789473684219, pvalue=0.002425724474749458)"
      ]
     },
     "execution_count": 13,
     "metadata": {},
     "output_type": "execute_result"
    }
   ],
   "source": [
    "stats.kruskal(df['x'],df['y'])"
   ]
  },
  {
   "cell_type": "markdown",
   "id": "baad9baf-0263-458f-a5a1-a8be49aa1ad7",
   "metadata": {},
   "source": [
    "Kruskal-Wallis, p<0.05, therefore we reject the null hypothesis that the population median of all of the groups are equal."
   ]
  },
  {
   "cell_type": "markdown",
   "id": "f66f8e8a-22f8-475a-ba46-bd7216da2482",
   "metadata": {},
   "source": [
    "[END OF DOCUMENT]"
   ]
  }
 ],
 "metadata": {
  "kernelspec": {
   "display_name": "Python 3 (ipykernel)",
   "language": "python",
   "name": "python3"
  },
  "language_info": {
   "codemirror_mode": {
    "name": "ipython",
    "version": 3
   },
   "file_extension": ".py",
   "mimetype": "text/x-python",
   "name": "python",
   "nbconvert_exporter": "python",
   "pygments_lexer": "ipython3",
   "version": "3.11.5"
  }
 },
 "nbformat": 4,
 "nbformat_minor": 5
}
